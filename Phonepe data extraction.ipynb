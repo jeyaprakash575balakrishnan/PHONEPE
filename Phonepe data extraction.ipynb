{
 "cells": [
  {
   "cell_type": "code",
   "execution_count": 1,
   "id": "3e5d5c4e",
   "metadata": {},
   "outputs": [],
   "source": [
    "import pandas as pd\n",
    "import json\n",
    "import os\n",
    "import pymysql\n",
    "from pprint import pprint"
   ]
  },
  {
   "cell_type": "markdown",
   "id": "237d3eda",
   "metadata": {},
   "source": [
    "# Aggregated Trans"
   ]
  },
  {
   "cell_type": "code",
   "execution_count": 2,
   "id": "9dac5a64",
   "metadata": {},
   "outputs": [],
   "source": [
    "#This is to direct the path to get the data as states\n",
    "\n",
    "path=\"C:/Users/Hariharan/Downloads/pulse-master/data/aggregated/transaction/country/india/state\"\n",
    "Agg_state_list=os.listdir(path)"
   ]
  },
  {
   "cell_type": "code",
   "execution_count": 3,
   "id": "3040cd6e",
   "metadata": {},
   "outputs": [],
   "source": [
    "#This is to extract the data's to create a dataframe\n",
    "\n",
    "clm={'State':[], 'Year':[],'Quater':[],'Transacion_type':[], 'Transacion_count':[], 'Transacion_amount':[]}\n",
    "for i in Agg_state_list:\n",
    "    p_i=path+\"/\"+i\n",
    "    Agg_yr=os.listdir(p_i)\n",
    "    for j in Agg_yr:\n",
    "        p_j=p_i+\"/\"+j\n",
    "        Agg_yr_list=os.listdir(p_j)\n",
    "        for k in Agg_yr_list:\n",
    "            p_k=p_j+\"/\"+k\n",
    "            Data=open(p_k,'r')\n",
    "            D=json.load(Data)\n",
    "            for z in D['data']['transactionData']:\n",
    "              Name=z['name']\n",
    "              count=z['paymentInstruments'][0]['count']\n",
    "              amount=z['paymentInstruments'][0]['amount']\n",
    "              clm['Transacion_type'].append(Name)\n",
    "              clm['Transacion_count'].append(count)\n",
    "              clm['Transacion_amount'].append(amount)\n",
    "              clm['State'].append(i)\n",
    "              clm['Year'].append(j)\n",
    "              clm['Quater'].append(int(k.strip('.json')))\n",
    "#Succesfully created a dataframe\n",
    "agg_trans=pd.DataFrame(clm)"
   ]
  },
  {
   "cell_type": "code",
   "execution_count": 4,
   "id": "40a1f883",
   "metadata": {},
   "outputs": [
    {
     "data": {
      "text/plain": [
       "State                0\n",
       "Year                 0\n",
       "Quater               0\n",
       "Transacion_type      0\n",
       "Transacion_count     0\n",
       "Transacion_amount    0\n",
       "dtype: int64"
      ]
     },
     "execution_count": 4,
     "metadata": {},
     "output_type": "execute_result"
    }
   ],
   "source": [
    "agg_trans.isnull().sum()"
   ]
  },
  {
   "cell_type": "code",
   "execution_count": 5,
   "id": "21547160",
   "metadata": {},
   "outputs": [
    {
     "data": {
      "text/plain": [
       "0"
      ]
     },
     "execution_count": 5,
     "metadata": {},
     "output_type": "execute_result"
    }
   ],
   "source": [
    "agg_trans.duplicated().sum()"
   ]
  },
  {
   "cell_type": "code",
   "execution_count": 6,
   "id": "e0295d7a",
   "metadata": {},
   "outputs": [
    {
     "data": {
      "text/plain": [
       "array(['andaman-&-nicobar-islands', 'andhra-pradesh', 'arunachal-pradesh',\n",
       "       'assam', 'bihar', 'chandigarh', 'chhattisgarh',\n",
       "       'dadra-&-nagar-haveli-&-daman-&-diu', 'delhi', 'goa', 'gujarat',\n",
       "       'haryana', 'himachal-pradesh', 'jammu-&-kashmir', 'jharkhand',\n",
       "       'karnataka', 'kerala', 'ladakh', 'lakshadweep', 'madhya-pradesh',\n",
       "       'maharashtra', 'manipur', 'meghalaya', 'mizoram', 'nagaland',\n",
       "       'odisha', 'puducherry', 'punjab', 'rajasthan', 'sikkim',\n",
       "       'tamil-nadu', 'telangana', 'tripura', 'uttar-pradesh',\n",
       "       'uttarakhand', 'west-bengal'], dtype=object)"
      ]
     },
     "execution_count": 6,
     "metadata": {},
     "output_type": "execute_result"
    }
   ],
   "source": [
    "agg_trans[\"State\"].unique()"
   ]
  },
  {
   "cell_type": "code",
   "execution_count": 7,
   "id": "291885a8",
   "metadata": {},
   "outputs": [],
   "source": [
    "s={'andaman-&-nicobar-islands':\"Andaman & Nicobar\",\n",
    "   'andhra-pradesh':\"Andhra Pradesh\",\n",
    "   'arunachal-pradesh':\"Arunachal Pradesh\",\n",
    "   'assam':\"Assam\",\n",
    "   'bihar':\"Bihar\",\n",
    "   'chandigarh':\"Chandigarh\",\n",
    "   'chhattisgarh':\"Chhattisgarh\",\n",
    "    'dadra-&-nagar-haveli-&-daman-&-diu':\"Dadra and Nagar Haveli and Daman and Diu\",\n",
    "   'delhi':\"Delhi\",\n",
    "   'goa':\"Goa\",\n",
    "   'gujarat':\"Gujarat\",\n",
    "    'haryana':\"Haryana\",\n",
    "   'himachal-pradesh':\"Himachal Pradesh\",\n",
    "   'jammu-&-kashmir':\"Jammu & Kashmir\",\n",
    "   'jharkhand':\"Jharkhand\",\n",
    "    'karnataka':\"Karnataka\",\n",
    "   'kerala':\"Kerala\",\n",
    "   'ladakh':\"Ladakh\",\n",
    "   'lakshadweep':\"Lakshadweep\",\n",
    "   'madhya-pradesh':\"Madhya Pradesh\",\n",
    "    'maharashtra':\"Maharashtra\",\n",
    "   'manipur':\"Manipur\",\n",
    "   'meghalaya':\"Meghalaya\",\n",
    "   'mizoram':\"Mizoram\",\n",
    "   'nagaland':\"Nagaland\",\n",
    "    'odisha':\"Odisha\",\n",
    "   'puducherry':\"Puducherry\",\n",
    "   'punjab':\"Punjab\",\n",
    "   'rajasthan':\"Rajasthan\",\n",
    "   'sikkim':\"Sikkim\",\n",
    "    'tamil-nadu':\"Tamil Nadu\",\n",
    "   'telangana':\"Telangana\",\n",
    "   'tripura':\"Tripura\",\n",
    "   'uttar-pradesh':\"Uttar Pradesh\",\n",
    "    'uttarakhand':\"Uttarakhand\",\n",
    "   'west-bengal':\"West Bengal\"  \n",
    "}"
   ]
  },
  {
   "cell_type": "code",
   "execution_count": 8,
   "id": "1e7840ad",
   "metadata": {},
   "outputs": [],
   "source": [
    "agg_trans[\"State\"] = agg_trans[\"State\"].map(s)"
   ]
  },
  {
   "cell_type": "code",
   "execution_count": 9,
   "id": "41f5550e",
   "metadata": {},
   "outputs": [
    {
     "data": {
      "text/html": [
       "<div>\n",
       "<style scoped>\n",
       "    .dataframe tbody tr th:only-of-type {\n",
       "        vertical-align: middle;\n",
       "    }\n",
       "\n",
       "    .dataframe tbody tr th {\n",
       "        vertical-align: top;\n",
       "    }\n",
       "\n",
       "    .dataframe thead th {\n",
       "        text-align: right;\n",
       "    }\n",
       "</style>\n",
       "<table border=\"1\" class=\"dataframe\">\n",
       "  <thead>\n",
       "    <tr style=\"text-align: right;\">\n",
       "      <th></th>\n",
       "      <th>State</th>\n",
       "      <th>Year</th>\n",
       "      <th>Quater</th>\n",
       "      <th>Transacion_type</th>\n",
       "      <th>Transacion_count</th>\n",
       "      <th>Transacion_amount</th>\n",
       "    </tr>\n",
       "  </thead>\n",
       "  <tbody>\n",
       "    <tr>\n",
       "      <th>0</th>\n",
       "      <td>Andaman &amp; Nicobar</td>\n",
       "      <td>2018</td>\n",
       "      <td>1</td>\n",
       "      <td>Recharge &amp; bill payments</td>\n",
       "      <td>4200</td>\n",
       "      <td>1.845307e+06</td>\n",
       "    </tr>\n",
       "    <tr>\n",
       "      <th>1</th>\n",
       "      <td>Andaman &amp; Nicobar</td>\n",
       "      <td>2018</td>\n",
       "      <td>1</td>\n",
       "      <td>Peer-to-peer payments</td>\n",
       "      <td>1871</td>\n",
       "      <td>1.213866e+07</td>\n",
       "    </tr>\n",
       "    <tr>\n",
       "      <th>2</th>\n",
       "      <td>Andaman &amp; Nicobar</td>\n",
       "      <td>2018</td>\n",
       "      <td>1</td>\n",
       "      <td>Merchant payments</td>\n",
       "      <td>298</td>\n",
       "      <td>4.525072e+05</td>\n",
       "    </tr>\n",
       "    <tr>\n",
       "      <th>3</th>\n",
       "      <td>Andaman &amp; Nicobar</td>\n",
       "      <td>2018</td>\n",
       "      <td>1</td>\n",
       "      <td>Financial Services</td>\n",
       "      <td>33</td>\n",
       "      <td>1.060142e+04</td>\n",
       "    </tr>\n",
       "    <tr>\n",
       "      <th>4</th>\n",
       "      <td>Andaman &amp; Nicobar</td>\n",
       "      <td>2018</td>\n",
       "      <td>1</td>\n",
       "      <td>Others</td>\n",
       "      <td>256</td>\n",
       "      <td>1.846899e+05</td>\n",
       "    </tr>\n",
       "    <tr>\n",
       "      <th>...</th>\n",
       "      <td>...</td>\n",
       "      <td>...</td>\n",
       "      <td>...</td>\n",
       "      <td>...</td>\n",
       "      <td>...</td>\n",
       "      <td>...</td>\n",
       "    </tr>\n",
       "    <tr>\n",
       "      <th>3949</th>\n",
       "      <td>West Bengal</td>\n",
       "      <td>2023</td>\n",
       "      <td>2</td>\n",
       "      <td>Merchant payments</td>\n",
       "      <td>245111000</td>\n",
       "      <td>1.767046e+11</td>\n",
       "    </tr>\n",
       "    <tr>\n",
       "      <th>3950</th>\n",
       "      <td>West Bengal</td>\n",
       "      <td>2023</td>\n",
       "      <td>2</td>\n",
       "      <td>Peer-to-peer payments</td>\n",
       "      <td>240347041</td>\n",
       "      <td>7.970548e+11</td>\n",
       "    </tr>\n",
       "    <tr>\n",
       "      <th>3951</th>\n",
       "      <td>West Bengal</td>\n",
       "      <td>2023</td>\n",
       "      <td>2</td>\n",
       "      <td>Recharge &amp; bill payments</td>\n",
       "      <td>58950434</td>\n",
       "      <td>3.478924e+10</td>\n",
       "    </tr>\n",
       "    <tr>\n",
       "      <th>3952</th>\n",
       "      <td>West Bengal</td>\n",
       "      <td>2023</td>\n",
       "      <td>2</td>\n",
       "      <td>Financial Services</td>\n",
       "      <td>327537</td>\n",
       "      <td>3.174670e+08</td>\n",
       "    </tr>\n",
       "    <tr>\n",
       "      <th>3953</th>\n",
       "      <td>West Bengal</td>\n",
       "      <td>2023</td>\n",
       "      <td>2</td>\n",
       "      <td>Others</td>\n",
       "      <td>581674</td>\n",
       "      <td>4.489893e+08</td>\n",
       "    </tr>\n",
       "  </tbody>\n",
       "</table>\n",
       "<p>3954 rows × 6 columns</p>\n",
       "</div>"
      ],
      "text/plain": [
       "                  State  Year  Quater           Transacion_type  \\\n",
       "0     Andaman & Nicobar  2018       1  Recharge & bill payments   \n",
       "1     Andaman & Nicobar  2018       1     Peer-to-peer payments   \n",
       "2     Andaman & Nicobar  2018       1         Merchant payments   \n",
       "3     Andaman & Nicobar  2018       1        Financial Services   \n",
       "4     Andaman & Nicobar  2018       1                    Others   \n",
       "...                 ...   ...     ...                       ...   \n",
       "3949        West Bengal  2023       2         Merchant payments   \n",
       "3950        West Bengal  2023       2     Peer-to-peer payments   \n",
       "3951        West Bengal  2023       2  Recharge & bill payments   \n",
       "3952        West Bengal  2023       2        Financial Services   \n",
       "3953        West Bengal  2023       2                    Others   \n",
       "\n",
       "      Transacion_count  Transacion_amount  \n",
       "0                 4200       1.845307e+06  \n",
       "1                 1871       1.213866e+07  \n",
       "2                  298       4.525072e+05  \n",
       "3                   33       1.060142e+04  \n",
       "4                  256       1.846899e+05  \n",
       "...                ...                ...  \n",
       "3949         245111000       1.767046e+11  \n",
       "3950         240347041       7.970548e+11  \n",
       "3951          58950434       3.478924e+10  \n",
       "3952            327537       3.174670e+08  \n",
       "3953            581674       4.489893e+08  \n",
       "\n",
       "[3954 rows x 6 columns]"
      ]
     },
     "execution_count": 9,
     "metadata": {},
     "output_type": "execute_result"
    }
   ],
   "source": [
    "agg_trans"
   ]
  },
  {
   "cell_type": "code",
   "execution_count": null,
   "id": "94727b3a",
   "metadata": {},
   "outputs": [],
   "source": []
  },
  {
   "cell_type": "markdown",
   "id": "cadfff4d",
   "metadata": {},
   "source": [
    "# Aggregated user"
   ]
  },
  {
   "cell_type": "code",
   "execution_count": 10,
   "id": "721b5eb4",
   "metadata": {},
   "outputs": [],
   "source": [
    "path2 = \"C:/Users/Hariharan/Downloads/pulse-master/data/aggregated/user/country/india/state\"\n",
    "\n",
    "agg_user_list = os.listdir(path2)\n",
    "\n",
    "columns2 = {'State': [], 'Year': [], 'Quarter': [], 'Brands': [], 'Count': [],'Percentage': []}\n",
    "for state in agg_user_list:\n",
    "    cur_state = path2 + \"/\" + state   \n",
    "    agg_year_list = os.listdir(cur_state)\n",
    "    \n",
    "    for year in agg_year_list:\n",
    "        cur_year = cur_state + \"/\" + year \n",
    "        agg_file_list = os.listdir(cur_year)\n",
    "\n",
    "        for file in agg_file_list:\n",
    "            cur_file = cur_year + \"/\" + file\n",
    "            data = open(cur_file, 'r')\n",
    "            B = json.load(data)\n",
    "            try:\n",
    "                for i in B[\"data\"][\"usersByDevice\"]:\n",
    "                    brand_name = i[\"brand\"]\n",
    "                    counts = i[\"count\"]\n",
    "                    percents = i[\"percentage\"]\n",
    "                    columns2[\"Brands\"].append(brand_name)\n",
    "                    columns2[\"Count\"].append(counts)\n",
    "                    columns2[\"Percentage\"].append(percents)\n",
    "                    columns2[\"State\"].append(state)\n",
    "                    columns2[\"Year\"].append(year)\n",
    "                    columns2[\"Quarter\"].append(int(file.strip('.json')))\n",
    "            except:\n",
    "                pass\n",
    "agg_user = pd.DataFrame(columns2)"
   ]
  },
  {
   "cell_type": "code",
   "execution_count": 11,
   "id": "6c444457",
   "metadata": {},
   "outputs": [
    {
     "data": {
      "text/html": [
       "<div>\n",
       "<style scoped>\n",
       "    .dataframe tbody tr th:only-of-type {\n",
       "        vertical-align: middle;\n",
       "    }\n",
       "\n",
       "    .dataframe tbody tr th {\n",
       "        vertical-align: top;\n",
       "    }\n",
       "\n",
       "    .dataframe thead th {\n",
       "        text-align: right;\n",
       "    }\n",
       "</style>\n",
       "<table border=\"1\" class=\"dataframe\">\n",
       "  <thead>\n",
       "    <tr style=\"text-align: right;\">\n",
       "      <th></th>\n",
       "      <th>State</th>\n",
       "      <th>Year</th>\n",
       "      <th>Quarter</th>\n",
       "      <th>Brands</th>\n",
       "      <th>Count</th>\n",
       "      <th>Percentage</th>\n",
       "    </tr>\n",
       "  </thead>\n",
       "  <tbody>\n",
       "    <tr>\n",
       "      <th>0</th>\n",
       "      <td>andaman-&amp;-nicobar-islands</td>\n",
       "      <td>2018</td>\n",
       "      <td>1</td>\n",
       "      <td>Xiaomi</td>\n",
       "      <td>1665</td>\n",
       "      <td>0.247033</td>\n",
       "    </tr>\n",
       "    <tr>\n",
       "      <th>1</th>\n",
       "      <td>andaman-&amp;-nicobar-islands</td>\n",
       "      <td>2018</td>\n",
       "      <td>1</td>\n",
       "      <td>Samsung</td>\n",
       "      <td>1445</td>\n",
       "      <td>0.214392</td>\n",
       "    </tr>\n",
       "    <tr>\n",
       "      <th>2</th>\n",
       "      <td>andaman-&amp;-nicobar-islands</td>\n",
       "      <td>2018</td>\n",
       "      <td>1</td>\n",
       "      <td>Vivo</td>\n",
       "      <td>982</td>\n",
       "      <td>0.145697</td>\n",
       "    </tr>\n",
       "    <tr>\n",
       "      <th>3</th>\n",
       "      <td>andaman-&amp;-nicobar-islands</td>\n",
       "      <td>2018</td>\n",
       "      <td>1</td>\n",
       "      <td>Oppo</td>\n",
       "      <td>501</td>\n",
       "      <td>0.074332</td>\n",
       "    </tr>\n",
       "    <tr>\n",
       "      <th>4</th>\n",
       "      <td>andaman-&amp;-nicobar-islands</td>\n",
       "      <td>2018</td>\n",
       "      <td>1</td>\n",
       "      <td>OnePlus</td>\n",
       "      <td>332</td>\n",
       "      <td>0.049258</td>\n",
       "    </tr>\n",
       "    <tr>\n",
       "      <th>...</th>\n",
       "      <td>...</td>\n",
       "      <td>...</td>\n",
       "      <td>...</td>\n",
       "      <td>...</td>\n",
       "      <td>...</td>\n",
       "      <td>...</td>\n",
       "    </tr>\n",
       "    <tr>\n",
       "      <th>6727</th>\n",
       "      <td>west-bengal</td>\n",
       "      <td>2022</td>\n",
       "      <td>1</td>\n",
       "      <td>Lenovo</td>\n",
       "      <td>330017</td>\n",
       "      <td>0.015056</td>\n",
       "    </tr>\n",
       "    <tr>\n",
       "      <th>6728</th>\n",
       "      <td>west-bengal</td>\n",
       "      <td>2022</td>\n",
       "      <td>1</td>\n",
       "      <td>Infinix</td>\n",
       "      <td>284678</td>\n",
       "      <td>0.012987</td>\n",
       "    </tr>\n",
       "    <tr>\n",
       "      <th>6729</th>\n",
       "      <td>west-bengal</td>\n",
       "      <td>2022</td>\n",
       "      <td>1</td>\n",
       "      <td>Asus</td>\n",
       "      <td>280347</td>\n",
       "      <td>0.012790</td>\n",
       "    </tr>\n",
       "    <tr>\n",
       "      <th>6730</th>\n",
       "      <td>west-bengal</td>\n",
       "      <td>2022</td>\n",
       "      <td>1</td>\n",
       "      <td>Apple</td>\n",
       "      <td>277752</td>\n",
       "      <td>0.012671</td>\n",
       "    </tr>\n",
       "    <tr>\n",
       "      <th>6731</th>\n",
       "      <td>west-bengal</td>\n",
       "      <td>2022</td>\n",
       "      <td>1</td>\n",
       "      <td>Others</td>\n",
       "      <td>2196334</td>\n",
       "      <td>0.100199</td>\n",
       "    </tr>\n",
       "  </tbody>\n",
       "</table>\n",
       "<p>6732 rows × 6 columns</p>\n",
       "</div>"
      ],
      "text/plain": [
       "                          State  Year  Quarter   Brands    Count  Percentage\n",
       "0     andaman-&-nicobar-islands  2018        1   Xiaomi     1665    0.247033\n",
       "1     andaman-&-nicobar-islands  2018        1  Samsung     1445    0.214392\n",
       "2     andaman-&-nicobar-islands  2018        1     Vivo      982    0.145697\n",
       "3     andaman-&-nicobar-islands  2018        1     Oppo      501    0.074332\n",
       "4     andaman-&-nicobar-islands  2018        1  OnePlus      332    0.049258\n",
       "...                         ...   ...      ...      ...      ...         ...\n",
       "6727                west-bengal  2022        1   Lenovo   330017    0.015056\n",
       "6728                west-bengal  2022        1  Infinix   284678    0.012987\n",
       "6729                west-bengal  2022        1     Asus   280347    0.012790\n",
       "6730                west-bengal  2022        1    Apple   277752    0.012671\n",
       "6731                west-bengal  2022        1   Others  2196334    0.100199\n",
       "\n",
       "[6732 rows x 6 columns]"
      ]
     },
     "execution_count": 11,
     "metadata": {},
     "output_type": "execute_result"
    }
   ],
   "source": [
    "agg_user"
   ]
  },
  {
   "cell_type": "code",
   "execution_count": 12,
   "id": "f4b956e1",
   "metadata": {},
   "outputs": [
    {
     "data": {
      "text/plain": [
       "State         0\n",
       "Year          0\n",
       "Quarter       0\n",
       "Brands        0\n",
       "Count         0\n",
       "Percentage    0\n",
       "dtype: int64"
      ]
     },
     "execution_count": 12,
     "metadata": {},
     "output_type": "execute_result"
    }
   ],
   "source": [
    "agg_user.isnull().sum()"
   ]
  },
  {
   "cell_type": "code",
   "execution_count": 13,
   "id": "3420d19b",
   "metadata": {},
   "outputs": [
    {
     "data": {
      "text/plain": [
       "0"
      ]
     },
     "execution_count": 13,
     "metadata": {},
     "output_type": "execute_result"
    }
   ],
   "source": [
    "agg_user.duplicated().sum()"
   ]
  },
  {
   "cell_type": "code",
   "execution_count": 14,
   "id": "47e34421",
   "metadata": {},
   "outputs": [],
   "source": [
    "agg_user[\"State\"] = agg_user[\"State\"].map(s)"
   ]
  },
  {
   "cell_type": "code",
   "execution_count": 15,
   "id": "33669cdd",
   "metadata": {},
   "outputs": [
    {
     "data": {
      "text/html": [
       "<div>\n",
       "<style scoped>\n",
       "    .dataframe tbody tr th:only-of-type {\n",
       "        vertical-align: middle;\n",
       "    }\n",
       "\n",
       "    .dataframe tbody tr th {\n",
       "        vertical-align: top;\n",
       "    }\n",
       "\n",
       "    .dataframe thead th {\n",
       "        text-align: right;\n",
       "    }\n",
       "</style>\n",
       "<table border=\"1\" class=\"dataframe\">\n",
       "  <thead>\n",
       "    <tr style=\"text-align: right;\">\n",
       "      <th></th>\n",
       "      <th>State</th>\n",
       "      <th>Year</th>\n",
       "      <th>Quarter</th>\n",
       "      <th>Brands</th>\n",
       "      <th>Count</th>\n",
       "      <th>Percentage</th>\n",
       "    </tr>\n",
       "  </thead>\n",
       "  <tbody>\n",
       "    <tr>\n",
       "      <th>0</th>\n",
       "      <td>Andaman &amp; Nicobar</td>\n",
       "      <td>2018</td>\n",
       "      <td>1</td>\n",
       "      <td>Xiaomi</td>\n",
       "      <td>1665</td>\n",
       "      <td>0.247033</td>\n",
       "    </tr>\n",
       "    <tr>\n",
       "      <th>1</th>\n",
       "      <td>Andaman &amp; Nicobar</td>\n",
       "      <td>2018</td>\n",
       "      <td>1</td>\n",
       "      <td>Samsung</td>\n",
       "      <td>1445</td>\n",
       "      <td>0.214392</td>\n",
       "    </tr>\n",
       "    <tr>\n",
       "      <th>2</th>\n",
       "      <td>Andaman &amp; Nicobar</td>\n",
       "      <td>2018</td>\n",
       "      <td>1</td>\n",
       "      <td>Vivo</td>\n",
       "      <td>982</td>\n",
       "      <td>0.145697</td>\n",
       "    </tr>\n",
       "    <tr>\n",
       "      <th>3</th>\n",
       "      <td>Andaman &amp; Nicobar</td>\n",
       "      <td>2018</td>\n",
       "      <td>1</td>\n",
       "      <td>Oppo</td>\n",
       "      <td>501</td>\n",
       "      <td>0.074332</td>\n",
       "    </tr>\n",
       "    <tr>\n",
       "      <th>4</th>\n",
       "      <td>Andaman &amp; Nicobar</td>\n",
       "      <td>2018</td>\n",
       "      <td>1</td>\n",
       "      <td>OnePlus</td>\n",
       "      <td>332</td>\n",
       "      <td>0.049258</td>\n",
       "    </tr>\n",
       "    <tr>\n",
       "      <th>...</th>\n",
       "      <td>...</td>\n",
       "      <td>...</td>\n",
       "      <td>...</td>\n",
       "      <td>...</td>\n",
       "      <td>...</td>\n",
       "      <td>...</td>\n",
       "    </tr>\n",
       "    <tr>\n",
       "      <th>6727</th>\n",
       "      <td>West Bengal</td>\n",
       "      <td>2022</td>\n",
       "      <td>1</td>\n",
       "      <td>Lenovo</td>\n",
       "      <td>330017</td>\n",
       "      <td>0.015056</td>\n",
       "    </tr>\n",
       "    <tr>\n",
       "      <th>6728</th>\n",
       "      <td>West Bengal</td>\n",
       "      <td>2022</td>\n",
       "      <td>1</td>\n",
       "      <td>Infinix</td>\n",
       "      <td>284678</td>\n",
       "      <td>0.012987</td>\n",
       "    </tr>\n",
       "    <tr>\n",
       "      <th>6729</th>\n",
       "      <td>West Bengal</td>\n",
       "      <td>2022</td>\n",
       "      <td>1</td>\n",
       "      <td>Asus</td>\n",
       "      <td>280347</td>\n",
       "      <td>0.012790</td>\n",
       "    </tr>\n",
       "    <tr>\n",
       "      <th>6730</th>\n",
       "      <td>West Bengal</td>\n",
       "      <td>2022</td>\n",
       "      <td>1</td>\n",
       "      <td>Apple</td>\n",
       "      <td>277752</td>\n",
       "      <td>0.012671</td>\n",
       "    </tr>\n",
       "    <tr>\n",
       "      <th>6731</th>\n",
       "      <td>West Bengal</td>\n",
       "      <td>2022</td>\n",
       "      <td>1</td>\n",
       "      <td>Others</td>\n",
       "      <td>2196334</td>\n",
       "      <td>0.100199</td>\n",
       "    </tr>\n",
       "  </tbody>\n",
       "</table>\n",
       "<p>6732 rows × 6 columns</p>\n",
       "</div>"
      ],
      "text/plain": [
       "                  State  Year  Quarter   Brands    Count  Percentage\n",
       "0     Andaman & Nicobar  2018        1   Xiaomi     1665    0.247033\n",
       "1     Andaman & Nicobar  2018        1  Samsung     1445    0.214392\n",
       "2     Andaman & Nicobar  2018        1     Vivo      982    0.145697\n",
       "3     Andaman & Nicobar  2018        1     Oppo      501    0.074332\n",
       "4     Andaman & Nicobar  2018        1  OnePlus      332    0.049258\n",
       "...                 ...   ...      ...      ...      ...         ...\n",
       "6727        West Bengal  2022        1   Lenovo   330017    0.015056\n",
       "6728        West Bengal  2022        1  Infinix   284678    0.012987\n",
       "6729        West Bengal  2022        1     Asus   280347    0.012790\n",
       "6730        West Bengal  2022        1    Apple   277752    0.012671\n",
       "6731        West Bengal  2022        1   Others  2196334    0.100199\n",
       "\n",
       "[6732 rows x 6 columns]"
      ]
     },
     "execution_count": 15,
     "metadata": {},
     "output_type": "execute_result"
    }
   ],
   "source": [
    "agg_user"
   ]
  },
  {
   "cell_type": "code",
   "execution_count": null,
   "id": "a5d71d6a",
   "metadata": {},
   "outputs": [],
   "source": []
  },
  {
   "cell_type": "markdown",
   "id": "04befd76",
   "metadata": {},
   "source": [
    "# map transaction"
   ]
  },
  {
   "cell_type": "code",
   "execution_count": 19,
   "id": "d70fcee2",
   "metadata": {},
   "outputs": [],
   "source": [
    "path3 = \"C:/Users/Hariharan/Downloads/pulse-master/data/map/transaction/hover/country/india/state\"\n",
    "\n",
    "map_trans_list = os.listdir(path3)"
   ]
  },
  {
   "cell_type": "code",
   "execution_count": 20,
   "id": "cee511f5",
   "metadata": {},
   "outputs": [],
   "source": [
    "columns3 = {'State': [], 'Year': [], 'Quarter': [], 'District': [], 'Count': [],\n",
    "            'Amount': []}\n",
    "\n",
    "for state in map_trans_list:\n",
    "    cur_state = path3 + \"/\" + state \n",
    "    map_year_list = os.listdir(cur_state)\n",
    "    \n",
    "    for year in map_year_list:\n",
    "        cur_year = cur_state + \"/\" + year \n",
    "        map_file_list = os.listdir(cur_year)\n",
    "        \n",
    "        for file in map_file_list:\n",
    "            cur_file = cur_year + \"/\" + file\n",
    "            data = open(cur_file, 'r')\n",
    "            C = json.load(data)\n",
    "            \n",
    "            for i in C[\"data\"][\"hoverDataList\"]:\n",
    "                district = i[\"name\"]\n",
    "                count = i[\"metric\"][0][\"count\"]\n",
    "                amount = i[\"metric\"][0][\"amount\"]\n",
    "                columns3[\"District\"].append(district)\n",
    "                columns3[\"Count\"].append(count)\n",
    "                columns3[\"Amount\"].append(amount)\n",
    "                columns3['State'].append(state)\n",
    "                columns3['Year'].append(year)\n",
    "                columns3['Quarter'].append(int(file.strip('.json')))\n",
    "                \n",
    "map_trans = pd.DataFrame(columns3)"
   ]
  },
  {
   "cell_type": "code",
   "execution_count": 21,
   "id": "6a623276",
   "metadata": {},
   "outputs": [
    {
     "data": {
      "text/plain": [
       "State       0\n",
       "Year        0\n",
       "Quarter     0\n",
       "District    0\n",
       "Count       0\n",
       "Amount      0\n",
       "dtype: int64"
      ]
     },
     "execution_count": 21,
     "metadata": {},
     "output_type": "execute_result"
    }
   ],
   "source": [
    "map_trans.isnull().sum()"
   ]
  },
  {
   "cell_type": "code",
   "execution_count": 22,
   "id": "40432614",
   "metadata": {},
   "outputs": [
    {
     "data": {
      "text/plain": [
       "0"
      ]
     },
     "execution_count": 22,
     "metadata": {},
     "output_type": "execute_result"
    }
   ],
   "source": [
    "map_trans.duplicated().sum()"
   ]
  },
  {
   "cell_type": "code",
   "execution_count": 23,
   "id": "53f3f5bb",
   "metadata": {},
   "outputs": [],
   "source": [
    "map_trans[\"State\"] = map_trans[\"State\"].map(s)"
   ]
  },
  {
   "cell_type": "code",
   "execution_count": 24,
   "id": "b4cc5c92",
   "metadata": {},
   "outputs": [
    {
     "data": {
      "text/html": [
       "<div>\n",
       "<style scoped>\n",
       "    .dataframe tbody tr th:only-of-type {\n",
       "        vertical-align: middle;\n",
       "    }\n",
       "\n",
       "    .dataframe tbody tr th {\n",
       "        vertical-align: top;\n",
       "    }\n",
       "\n",
       "    .dataframe thead th {\n",
       "        text-align: right;\n",
       "    }\n",
       "</style>\n",
       "<table border=\"1\" class=\"dataframe\">\n",
       "  <thead>\n",
       "    <tr style=\"text-align: right;\">\n",
       "      <th></th>\n",
       "      <th>State</th>\n",
       "      <th>Year</th>\n",
       "      <th>Quarter</th>\n",
       "      <th>District</th>\n",
       "      <th>Count</th>\n",
       "      <th>Amount</th>\n",
       "    </tr>\n",
       "  </thead>\n",
       "  <tbody>\n",
       "    <tr>\n",
       "      <th>0</th>\n",
       "      <td>Andaman &amp; Nicobar</td>\n",
       "      <td>2018</td>\n",
       "      <td>1</td>\n",
       "      <td>north and middle andaman district</td>\n",
       "      <td>442</td>\n",
       "      <td>9.316631e+05</td>\n",
       "    </tr>\n",
       "    <tr>\n",
       "      <th>1</th>\n",
       "      <td>Andaman &amp; Nicobar</td>\n",
       "      <td>2018</td>\n",
       "      <td>1</td>\n",
       "      <td>south andaman district</td>\n",
       "      <td>5688</td>\n",
       "      <td>1.256025e+07</td>\n",
       "    </tr>\n",
       "    <tr>\n",
       "      <th>2</th>\n",
       "      <td>Andaman &amp; Nicobar</td>\n",
       "      <td>2018</td>\n",
       "      <td>1</td>\n",
       "      <td>nicobars district</td>\n",
       "      <td>528</td>\n",
       "      <td>1.139849e+06</td>\n",
       "    </tr>\n",
       "    <tr>\n",
       "      <th>3</th>\n",
       "      <td>Andaman &amp; Nicobar</td>\n",
       "      <td>2018</td>\n",
       "      <td>2</td>\n",
       "      <td>north and middle andaman district</td>\n",
       "      <td>825</td>\n",
       "      <td>1.317863e+06</td>\n",
       "    </tr>\n",
       "    <tr>\n",
       "      <th>4</th>\n",
       "      <td>Andaman &amp; Nicobar</td>\n",
       "      <td>2018</td>\n",
       "      <td>2</td>\n",
       "      <td>south andaman district</td>\n",
       "      <td>9395</td>\n",
       "      <td>2.394824e+07</td>\n",
       "    </tr>\n",
       "    <tr>\n",
       "      <th>...</th>\n",
       "      <td>...</td>\n",
       "      <td>...</td>\n",
       "      <td>...</td>\n",
       "      <td>...</td>\n",
       "      <td>...</td>\n",
       "      <td>...</td>\n",
       "    </tr>\n",
       "    <tr>\n",
       "      <th>16095</th>\n",
       "      <td>West Bengal</td>\n",
       "      <td>2023</td>\n",
       "      <td>2</td>\n",
       "      <td>nadia district</td>\n",
       "      <td>26194658</td>\n",
       "      <td>5.410386e+10</td>\n",
       "    </tr>\n",
       "    <tr>\n",
       "      <th>16096</th>\n",
       "      <td>West Bengal</td>\n",
       "      <td>2023</td>\n",
       "      <td>2</td>\n",
       "      <td>birbhum district</td>\n",
       "      <td>14912523</td>\n",
       "      <td>2.941312e+10</td>\n",
       "    </tr>\n",
       "    <tr>\n",
       "      <th>16097</th>\n",
       "      <td>West Bengal</td>\n",
       "      <td>2023</td>\n",
       "      <td>2</td>\n",
       "      <td>purba medinipur district</td>\n",
       "      <td>30724502</td>\n",
       "      <td>6.595899e+10</td>\n",
       "    </tr>\n",
       "    <tr>\n",
       "      <th>16098</th>\n",
       "      <td>West Bengal</td>\n",
       "      <td>2023</td>\n",
       "      <td>2</td>\n",
       "      <td>maldah district</td>\n",
       "      <td>24677357</td>\n",
       "      <td>5.218621e+10</td>\n",
       "    </tr>\n",
       "    <tr>\n",
       "      <th>16099</th>\n",
       "      <td>West Bengal</td>\n",
       "      <td>2023</td>\n",
       "      <td>2</td>\n",
       "      <td>darjiling district</td>\n",
       "      <td>13049366</td>\n",
       "      <td>2.372866e+10</td>\n",
       "    </tr>\n",
       "  </tbody>\n",
       "</table>\n",
       "<p>16100 rows × 6 columns</p>\n",
       "</div>"
      ],
      "text/plain": [
       "                   State  Year  Quarter                           District  \\\n",
       "0      Andaman & Nicobar  2018        1  north and middle andaman district   \n",
       "1      Andaman & Nicobar  2018        1             south andaman district   \n",
       "2      Andaman & Nicobar  2018        1                  nicobars district   \n",
       "3      Andaman & Nicobar  2018        2  north and middle andaman district   \n",
       "4      Andaman & Nicobar  2018        2             south andaman district   \n",
       "...                  ...   ...      ...                                ...   \n",
       "16095        West Bengal  2023        2                     nadia district   \n",
       "16096        West Bengal  2023        2                   birbhum district   \n",
       "16097        West Bengal  2023        2           purba medinipur district   \n",
       "16098        West Bengal  2023        2                    maldah district   \n",
       "16099        West Bengal  2023        2                 darjiling district   \n",
       "\n",
       "          Count        Amount  \n",
       "0           442  9.316631e+05  \n",
       "1          5688  1.256025e+07  \n",
       "2           528  1.139849e+06  \n",
       "3           825  1.317863e+06  \n",
       "4          9395  2.394824e+07  \n",
       "...         ...           ...  \n",
       "16095  26194658  5.410386e+10  \n",
       "16096  14912523  2.941312e+10  \n",
       "16097  30724502  6.595899e+10  \n",
       "16098  24677357  5.218621e+10  \n",
       "16099  13049366  2.372866e+10  \n",
       "\n",
       "[16100 rows x 6 columns]"
      ]
     },
     "execution_count": 24,
     "metadata": {},
     "output_type": "execute_result"
    }
   ],
   "source": [
    "map_trans"
   ]
  },
  {
   "cell_type": "code",
   "execution_count": null,
   "id": "e17b1a4e",
   "metadata": {},
   "outputs": [],
   "source": []
  },
  {
   "cell_type": "code",
   "execution_count": null,
   "id": "1bba2731",
   "metadata": {},
   "outputs": [],
   "source": []
  },
  {
   "cell_type": "markdown",
   "id": "2f9fd285",
   "metadata": {},
   "source": [
    "# map user"
   ]
  },
  {
   "cell_type": "code",
   "execution_count": 25,
   "id": "b99f3061",
   "metadata": {},
   "outputs": [],
   "source": [
    "path4 = \"C:/Users/Hariharan/Downloads/pulse-master/data/map/user/hover/country/india/state\"\n",
    "\n",
    "map_user_list = os.listdir(path4)\n",
    "\n",
    "columns4 = {\"State\": [], \"Year\": [], \"Quarter\": [], \"District\": [],\n",
    "            \"RegisteredUser\": [], \"AppOpens\": []}\n",
    "\n",
    "for state in map_user_list:\n",
    "    cur_state = path4 + \"/\" + state \n",
    "    map_year_list = os.listdir(cur_state)\n",
    "    \n",
    "    for year in map_year_list:\n",
    "        cur_year = cur_state + \"/\" + year  \n",
    "        map_file_list = os.listdir(cur_year)\n",
    "        \n",
    "        for file in map_file_list:\n",
    "            cur_file = cur_year + \"/\" + file\n",
    "            data = open(cur_file, 'r')\n",
    "            D = json.load(data)\n",
    "            \n",
    "            for i in D[\"data\"][\"hoverData\"].items():\n",
    "                district = i[0]\n",
    "                registereduser = i[1][\"registeredUsers\"]\n",
    "                appOpens = i[1]['appOpens']\n",
    "                columns4[\"District\"].append(district)\n",
    "                columns4[\"RegisteredUser\"].append(registereduser)\n",
    "                columns4[\"AppOpens\"].append(appOpens)\n",
    "                columns4['State'].append(state)\n",
    "                columns4['Year'].append(year)\n",
    "                columns4['Quarter'].append(int(file.strip('.json')))\n",
    "                \n",
    "map_user = pd.DataFrame(columns4)"
   ]
  },
  {
   "cell_type": "code",
   "execution_count": 26,
   "id": "7aefe844",
   "metadata": {},
   "outputs": [
    {
     "data": {
      "text/plain": [
       "State             0\n",
       "Year              0\n",
       "Quarter           0\n",
       "District          0\n",
       "RegisteredUser    0\n",
       "AppOpens          0\n",
       "dtype: int64"
      ]
     },
     "execution_count": 26,
     "metadata": {},
     "output_type": "execute_result"
    }
   ],
   "source": [
    "map_user.isnull().sum()"
   ]
  },
  {
   "cell_type": "code",
   "execution_count": 27,
   "id": "3af427cc",
   "metadata": {},
   "outputs": [
    {
     "data": {
      "text/plain": [
       "0"
      ]
     },
     "execution_count": 27,
     "metadata": {},
     "output_type": "execute_result"
    }
   ],
   "source": [
    "map_user.duplicated().sum()"
   ]
  },
  {
   "cell_type": "code",
   "execution_count": 28,
   "id": "80dd37dd",
   "metadata": {},
   "outputs": [],
   "source": [
    "map_user[\"State\"] = map_user[\"State\"].map(s)"
   ]
  },
  {
   "cell_type": "code",
   "execution_count": 29,
   "id": "f3e1c166",
   "metadata": {},
   "outputs": [
    {
     "data": {
      "text/html": [
       "<div>\n",
       "<style scoped>\n",
       "    .dataframe tbody tr th:only-of-type {\n",
       "        vertical-align: middle;\n",
       "    }\n",
       "\n",
       "    .dataframe tbody tr th {\n",
       "        vertical-align: top;\n",
       "    }\n",
       "\n",
       "    .dataframe thead th {\n",
       "        text-align: right;\n",
       "    }\n",
       "</style>\n",
       "<table border=\"1\" class=\"dataframe\">\n",
       "  <thead>\n",
       "    <tr style=\"text-align: right;\">\n",
       "      <th></th>\n",
       "      <th>State</th>\n",
       "      <th>Year</th>\n",
       "      <th>Quarter</th>\n",
       "      <th>District</th>\n",
       "      <th>RegisteredUser</th>\n",
       "      <th>AppOpens</th>\n",
       "    </tr>\n",
       "  </thead>\n",
       "  <tbody>\n",
       "    <tr>\n",
       "      <th>0</th>\n",
       "      <td>Andaman &amp; Nicobar</td>\n",
       "      <td>2018</td>\n",
       "      <td>1</td>\n",
       "      <td>north and middle andaman district</td>\n",
       "      <td>632</td>\n",
       "      <td>0</td>\n",
       "    </tr>\n",
       "    <tr>\n",
       "      <th>1</th>\n",
       "      <td>Andaman &amp; Nicobar</td>\n",
       "      <td>2018</td>\n",
       "      <td>1</td>\n",
       "      <td>south andaman district</td>\n",
       "      <td>5846</td>\n",
       "      <td>0</td>\n",
       "    </tr>\n",
       "    <tr>\n",
       "      <th>2</th>\n",
       "      <td>Andaman &amp; Nicobar</td>\n",
       "      <td>2018</td>\n",
       "      <td>1</td>\n",
       "      <td>nicobars district</td>\n",
       "      <td>262</td>\n",
       "      <td>0</td>\n",
       "    </tr>\n",
       "    <tr>\n",
       "      <th>3</th>\n",
       "      <td>Andaman &amp; Nicobar</td>\n",
       "      <td>2018</td>\n",
       "      <td>2</td>\n",
       "      <td>north and middle andaman district</td>\n",
       "      <td>911</td>\n",
       "      <td>0</td>\n",
       "    </tr>\n",
       "    <tr>\n",
       "      <th>4</th>\n",
       "      <td>Andaman &amp; Nicobar</td>\n",
       "      <td>2018</td>\n",
       "      <td>2</td>\n",
       "      <td>south andaman district</td>\n",
       "      <td>8143</td>\n",
       "      <td>0</td>\n",
       "    </tr>\n",
       "    <tr>\n",
       "      <th>...</th>\n",
       "      <td>...</td>\n",
       "      <td>...</td>\n",
       "      <td>...</td>\n",
       "      <td>...</td>\n",
       "      <td>...</td>\n",
       "      <td>...</td>\n",
       "    </tr>\n",
       "    <tr>\n",
       "      <th>16099</th>\n",
       "      <td>West Bengal</td>\n",
       "      <td>2023</td>\n",
       "      <td>2</td>\n",
       "      <td>nadia district</td>\n",
       "      <td>1482400</td>\n",
       "      <td>9509833</td>\n",
       "    </tr>\n",
       "    <tr>\n",
       "      <th>16100</th>\n",
       "      <td>West Bengal</td>\n",
       "      <td>2023</td>\n",
       "      <td>2</td>\n",
       "      <td>birbhum district</td>\n",
       "      <td>934943</td>\n",
       "      <td>12789154</td>\n",
       "    </tr>\n",
       "    <tr>\n",
       "      <th>16101</th>\n",
       "      <td>West Bengal</td>\n",
       "      <td>2023</td>\n",
       "      <td>2</td>\n",
       "      <td>purba medinipur district</td>\n",
       "      <td>1468608</td>\n",
       "      <td>12096564</td>\n",
       "    </tr>\n",
       "    <tr>\n",
       "      <th>16102</th>\n",
       "      <td>West Bengal</td>\n",
       "      <td>2023</td>\n",
       "      <td>2</td>\n",
       "      <td>maldah district</td>\n",
       "      <td>1046132</td>\n",
       "      <td>17662446</td>\n",
       "    </tr>\n",
       "    <tr>\n",
       "      <th>16103</th>\n",
       "      <td>West Bengal</td>\n",
       "      <td>2023</td>\n",
       "      <td>2</td>\n",
       "      <td>darjiling district</td>\n",
       "      <td>613398</td>\n",
       "      <td>15141713</td>\n",
       "    </tr>\n",
       "  </tbody>\n",
       "</table>\n",
       "<p>16104 rows × 6 columns</p>\n",
       "</div>"
      ],
      "text/plain": [
       "                   State  Year  Quarter                           District  \\\n",
       "0      Andaman & Nicobar  2018        1  north and middle andaman district   \n",
       "1      Andaman & Nicobar  2018        1             south andaman district   \n",
       "2      Andaman & Nicobar  2018        1                  nicobars district   \n",
       "3      Andaman & Nicobar  2018        2  north and middle andaman district   \n",
       "4      Andaman & Nicobar  2018        2             south andaman district   \n",
       "...                  ...   ...      ...                                ...   \n",
       "16099        West Bengal  2023        2                     nadia district   \n",
       "16100        West Bengal  2023        2                   birbhum district   \n",
       "16101        West Bengal  2023        2           purba medinipur district   \n",
       "16102        West Bengal  2023        2                    maldah district   \n",
       "16103        West Bengal  2023        2                 darjiling district   \n",
       "\n",
       "       RegisteredUser  AppOpens  \n",
       "0                 632         0  \n",
       "1                5846         0  \n",
       "2                 262         0  \n",
       "3                 911         0  \n",
       "4                8143         0  \n",
       "...               ...       ...  \n",
       "16099         1482400   9509833  \n",
       "16100          934943  12789154  \n",
       "16101         1468608  12096564  \n",
       "16102         1046132  17662446  \n",
       "16103          613398  15141713  \n",
       "\n",
       "[16104 rows x 6 columns]"
      ]
     },
     "execution_count": 29,
     "metadata": {},
     "output_type": "execute_result"
    }
   ],
   "source": [
    "map_user"
   ]
  },
  {
   "cell_type": "code",
   "execution_count": null,
   "id": "b621d049",
   "metadata": {},
   "outputs": [],
   "source": []
  },
  {
   "cell_type": "markdown",
   "id": "d69cac3c",
   "metadata": {},
   "source": [
    "# top transactions"
   ]
  },
  {
   "cell_type": "code",
   "execution_count": 30,
   "id": "c0963976",
   "metadata": {},
   "outputs": [],
   "source": [
    "path5 = \"C:/Users/Hariharan/Downloads/pulse-master/data/top/transaction/country/india/state\"\n",
    "\n",
    "top_trans_list = os.listdir(path5)\n",
    "columns5 = {'State': [], 'Year': [], 'Quarter': [], 'Pincode': [], 'Transaction_count': [],\n",
    "            'Transaction_amount': []}\n",
    "\n",
    "for state in top_trans_list:\n",
    "    cur_state = path5 + \"/\" + state  \n",
    "    top_year_list = os.listdir(cur_state)\n",
    "    \n",
    "    for year in top_year_list:\n",
    "        cur_year = cur_state + \"/\" + year \n",
    "        top_file_list = os.listdir(cur_year)\n",
    "        \n",
    "        for file in top_file_list:\n",
    "            cur_file = cur_year + \"/\" + file\n",
    "            data = open(cur_file, 'r')\n",
    "            E = json.load(data)\n",
    "            \n",
    "            for i in E['data']['pincodes']:\n",
    "                name = i['entityName']\n",
    "                count = i['metric']['count']\n",
    "                amount = i['metric']['amount']\n",
    "                columns5['Pincode'].append(name)\n",
    "                columns5['Transaction_count'].append(count)\n",
    "                columns5['Transaction_amount'].append(amount)\n",
    "                columns5['State'].append(state)\n",
    "                columns5['Year'].append(year)\n",
    "                columns5['Quarter'].append(int(file.strip('.json')))\n",
    "top_trans = pd.DataFrame(columns5)"
   ]
  },
  {
   "cell_type": "code",
   "execution_count": 31,
   "id": "bd5b8254",
   "metadata": {},
   "outputs": [
    {
     "data": {
      "text/plain": [
       "State                 0\n",
       "Year                  0\n",
       "Quarter               0\n",
       "Pincode               2\n",
       "Transaction_count     0\n",
       "Transaction_amount    0\n",
       "dtype: int64"
      ]
     },
     "execution_count": 31,
     "metadata": {},
     "output_type": "execute_result"
    }
   ],
   "source": [
    "top_trans.isnull().sum()"
   ]
  },
  {
   "cell_type": "code",
   "execution_count": 32,
   "id": "3f85e8e4",
   "metadata": {},
   "outputs": [
    {
     "data": {
      "text/html": [
       "<div>\n",
       "<style scoped>\n",
       "    .dataframe tbody tr th:only-of-type {\n",
       "        vertical-align: middle;\n",
       "    }\n",
       "\n",
       "    .dataframe tbody tr th {\n",
       "        vertical-align: top;\n",
       "    }\n",
       "\n",
       "    .dataframe thead th {\n",
       "        text-align: right;\n",
       "    }\n",
       "</style>\n",
       "<table border=\"1\" class=\"dataframe\">\n",
       "  <thead>\n",
       "    <tr style=\"text-align: right;\">\n",
       "      <th></th>\n",
       "      <th>State</th>\n",
       "      <th>Year</th>\n",
       "      <th>Quarter</th>\n",
       "      <th>Pincode</th>\n",
       "      <th>Transaction_count</th>\n",
       "      <th>Transaction_amount</th>\n",
       "    </tr>\n",
       "  </thead>\n",
       "  <tbody>\n",
       "    <tr>\n",
       "      <th>3794</th>\n",
       "      <td>ladakh</td>\n",
       "      <td>2019</td>\n",
       "      <td>4</td>\n",
       "      <td>None</td>\n",
       "      <td>2014</td>\n",
       "      <td>1.009866e+07</td>\n",
       "    </tr>\n",
       "    <tr>\n",
       "      <th>3836</th>\n",
       "      <td>ladakh</td>\n",
       "      <td>2020</td>\n",
       "      <td>4</td>\n",
       "      <td>None</td>\n",
       "      <td>13717</td>\n",
       "      <td>3.671160e+07</td>\n",
       "    </tr>\n",
       "  </tbody>\n",
       "</table>\n",
       "</div>"
      ],
      "text/plain": [
       "       State  Year  Quarter Pincode  Transaction_count  Transaction_amount\n",
       "3794  ladakh  2019        4    None               2014        1.009866e+07\n",
       "3836  ladakh  2020        4    None              13717        3.671160e+07"
      ]
     },
     "execution_count": 32,
     "metadata": {},
     "output_type": "execute_result"
    }
   ],
   "source": [
    "top_trans[top_trans.isnull().any(axis=1)]"
   ]
  },
  {
   "cell_type": "code",
   "execution_count": 33,
   "id": "c50c1737",
   "metadata": {},
   "outputs": [],
   "source": [
    "top_trans.dropna(inplace=True)"
   ]
  },
  {
   "cell_type": "code",
   "execution_count": 34,
   "id": "791ee8d9",
   "metadata": {},
   "outputs": [
    {
     "data": {
      "text/plain": [
       "State                 0\n",
       "Year                  0\n",
       "Quarter               0\n",
       "Pincode               0\n",
       "Transaction_count     0\n",
       "Transaction_amount    0\n",
       "dtype: int64"
      ]
     },
     "execution_count": 34,
     "metadata": {},
     "output_type": "execute_result"
    }
   ],
   "source": [
    "top_trans.isnull().sum()"
   ]
  },
  {
   "cell_type": "code",
   "execution_count": 35,
   "id": "9d3433eb",
   "metadata": {},
   "outputs": [
    {
     "data": {
      "text/plain": [
       "(7851, 6)"
      ]
     },
     "execution_count": 35,
     "metadata": {},
     "output_type": "execute_result"
    }
   ],
   "source": [
    "top_trans.shape"
   ]
  },
  {
   "cell_type": "code",
   "execution_count": 36,
   "id": "de8b51e1",
   "metadata": {},
   "outputs": [
    {
     "data": {
      "text/plain": [
       "0"
      ]
     },
     "execution_count": 36,
     "metadata": {},
     "output_type": "execute_result"
    }
   ],
   "source": [
    "top_trans.duplicated().sum()"
   ]
  },
  {
   "cell_type": "code",
   "execution_count": 37,
   "id": "4ca7f994",
   "metadata": {},
   "outputs": [],
   "source": [
    "top_trans[\"State\"] = top_trans[\"State\"].map(s)"
   ]
  },
  {
   "cell_type": "code",
   "execution_count": 38,
   "id": "f53999ef",
   "metadata": {},
   "outputs": [
    {
     "data": {
      "text/html": [
       "<div>\n",
       "<style scoped>\n",
       "    .dataframe tbody tr th:only-of-type {\n",
       "        vertical-align: middle;\n",
       "    }\n",
       "\n",
       "    .dataframe tbody tr th {\n",
       "        vertical-align: top;\n",
       "    }\n",
       "\n",
       "    .dataframe thead th {\n",
       "        text-align: right;\n",
       "    }\n",
       "</style>\n",
       "<table border=\"1\" class=\"dataframe\">\n",
       "  <thead>\n",
       "    <tr style=\"text-align: right;\">\n",
       "      <th></th>\n",
       "      <th>State</th>\n",
       "      <th>Year</th>\n",
       "      <th>Quarter</th>\n",
       "      <th>Pincode</th>\n",
       "      <th>Transaction_count</th>\n",
       "      <th>Transaction_amount</th>\n",
       "    </tr>\n",
       "  </thead>\n",
       "  <tbody>\n",
       "    <tr>\n",
       "      <th>0</th>\n",
       "      <td>Andaman &amp; Nicobar</td>\n",
       "      <td>2018</td>\n",
       "      <td>1</td>\n",
       "      <td>744101</td>\n",
       "      <td>1622</td>\n",
       "      <td>2.769298e+06</td>\n",
       "    </tr>\n",
       "    <tr>\n",
       "      <th>1</th>\n",
       "      <td>Andaman &amp; Nicobar</td>\n",
       "      <td>2018</td>\n",
       "      <td>1</td>\n",
       "      <td>744103</td>\n",
       "      <td>1223</td>\n",
       "      <td>2.238042e+06</td>\n",
       "    </tr>\n",
       "    <tr>\n",
       "      <th>2</th>\n",
       "      <td>Andaman &amp; Nicobar</td>\n",
       "      <td>2018</td>\n",
       "      <td>1</td>\n",
       "      <td>744102</td>\n",
       "      <td>969</td>\n",
       "      <td>3.519060e+06</td>\n",
       "    </tr>\n",
       "    <tr>\n",
       "      <th>3</th>\n",
       "      <td>Andaman &amp; Nicobar</td>\n",
       "      <td>2018</td>\n",
       "      <td>1</td>\n",
       "      <td>744105</td>\n",
       "      <td>685</td>\n",
       "      <td>1.298561e+06</td>\n",
       "    </tr>\n",
       "    <tr>\n",
       "      <th>4</th>\n",
       "      <td>Andaman &amp; Nicobar</td>\n",
       "      <td>2018</td>\n",
       "      <td>1</td>\n",
       "      <td>744104</td>\n",
       "      <td>340</td>\n",
       "      <td>1.039715e+06</td>\n",
       "    </tr>\n",
       "    <tr>\n",
       "      <th>...</th>\n",
       "      <td>...</td>\n",
       "      <td>...</td>\n",
       "      <td>...</td>\n",
       "      <td>...</td>\n",
       "      <td>...</td>\n",
       "      <td>...</td>\n",
       "    </tr>\n",
       "    <tr>\n",
       "      <th>7848</th>\n",
       "      <td>West Bengal</td>\n",
       "      <td>2023</td>\n",
       "      <td>2</td>\n",
       "      <td>700001</td>\n",
       "      <td>2918444</td>\n",
       "      <td>6.259877e+09</td>\n",
       "    </tr>\n",
       "    <tr>\n",
       "      <th>7849</th>\n",
       "      <td>West Bengal</td>\n",
       "      <td>2023</td>\n",
       "      <td>2</td>\n",
       "      <td>721301</td>\n",
       "      <td>2910870</td>\n",
       "      <td>4.458107e+09</td>\n",
       "    </tr>\n",
       "    <tr>\n",
       "      <th>7850</th>\n",
       "      <td>West Bengal</td>\n",
       "      <td>2023</td>\n",
       "      <td>2</td>\n",
       "      <td>700039</td>\n",
       "      <td>2886562</td>\n",
       "      <td>4.662887e+09</td>\n",
       "    </tr>\n",
       "    <tr>\n",
       "      <th>7851</th>\n",
       "      <td>West Bengal</td>\n",
       "      <td>2023</td>\n",
       "      <td>2</td>\n",
       "      <td>700015</td>\n",
       "      <td>2774383</td>\n",
       "      <td>4.372975e+09</td>\n",
       "    </tr>\n",
       "    <tr>\n",
       "      <th>7852</th>\n",
       "      <td>West Bengal</td>\n",
       "      <td>2023</td>\n",
       "      <td>2</td>\n",
       "      <td>700014</td>\n",
       "      <td>2757479</td>\n",
       "      <td>5.108638e+09</td>\n",
       "    </tr>\n",
       "  </tbody>\n",
       "</table>\n",
       "<p>7851 rows × 6 columns</p>\n",
       "</div>"
      ],
      "text/plain": [
       "                  State  Year  Quarter Pincode  Transaction_count  \\\n",
       "0     Andaman & Nicobar  2018        1  744101               1622   \n",
       "1     Andaman & Nicobar  2018        1  744103               1223   \n",
       "2     Andaman & Nicobar  2018        1  744102                969   \n",
       "3     Andaman & Nicobar  2018        1  744105                685   \n",
       "4     Andaman & Nicobar  2018        1  744104                340   \n",
       "...                 ...   ...      ...     ...                ...   \n",
       "7848        West Bengal  2023        2  700001            2918444   \n",
       "7849        West Bengal  2023        2  721301            2910870   \n",
       "7850        West Bengal  2023        2  700039            2886562   \n",
       "7851        West Bengal  2023        2  700015            2774383   \n",
       "7852        West Bengal  2023        2  700014            2757479   \n",
       "\n",
       "      Transaction_amount  \n",
       "0           2.769298e+06  \n",
       "1           2.238042e+06  \n",
       "2           3.519060e+06  \n",
       "3           1.298561e+06  \n",
       "4           1.039715e+06  \n",
       "...                  ...  \n",
       "7848        6.259877e+09  \n",
       "7849        4.458107e+09  \n",
       "7850        4.662887e+09  \n",
       "7851        4.372975e+09  \n",
       "7852        5.108638e+09  \n",
       "\n",
       "[7851 rows x 6 columns]"
      ]
     },
     "execution_count": 38,
     "metadata": {},
     "output_type": "execute_result"
    }
   ],
   "source": [
    "top_trans"
   ]
  },
  {
   "cell_type": "code",
   "execution_count": null,
   "id": "052338bd",
   "metadata": {},
   "outputs": [],
   "source": []
  },
  {
   "cell_type": "markdown",
   "id": "37598f63",
   "metadata": {},
   "source": [
    "# top users"
   ]
  },
  {
   "cell_type": "code",
   "execution_count": 39,
   "id": "85673ec4",
   "metadata": {},
   "outputs": [],
   "source": [
    "path6 = \"C:/Users/Hariharan/Downloads/pulse-master/data/top/user/country/india/state\"\n",
    "top_user_list = os.listdir(path6)\n",
    "columns6 = {'State': [], 'Year': [], 'Quarter': [], 'Pincode': [],\n",
    "            'RegisteredUsers': []}\n",
    "\n",
    "for state in top_user_list:\n",
    "    cur_state = path6 + \"/\" + state  \n",
    "    top_year_list = os.listdir(cur_state)\n",
    "    \n",
    "    for year in top_year_list:\n",
    "        cur_year = cur_state + \"/\" + year \n",
    "        top_file_list = os.listdir(cur_year)\n",
    "        \n",
    "        for file in top_file_list:\n",
    "            cur_file = cur_year + \"/\" + file\n",
    "            data = open(cur_file, 'r')\n",
    "            F = json.load(data)\n",
    "            \n",
    "            for i in F['data']['pincodes']:\n",
    "                name = i['name']\n",
    "                registeredUsers = i['registeredUsers']\n",
    "                columns6['Pincode'].append(name)\n",
    "                columns6['RegisteredUsers'].append(registeredUsers)\n",
    "                columns6['State'].append(state)\n",
    "                columns6['Year'].append(year)\n",
    "                columns6['Quarter'].append(int(file.strip('.json')))\n",
    "top_user = pd.DataFrame(columns6)      "
   ]
  },
  {
   "cell_type": "code",
   "execution_count": 40,
   "id": "ca5f8a36",
   "metadata": {},
   "outputs": [
    {
     "data": {
      "text/plain": [
       "State              0\n",
       "Year               0\n",
       "Quarter            0\n",
       "Pincode            0\n",
       "RegisteredUsers    0\n",
       "dtype: int64"
      ]
     },
     "execution_count": 40,
     "metadata": {},
     "output_type": "execute_result"
    }
   ],
   "source": [
    "top_user.isnull().sum()"
   ]
  },
  {
   "cell_type": "code",
   "execution_count": 41,
   "id": "c05c80b3",
   "metadata": {},
   "outputs": [
    {
     "data": {
      "text/plain": [
       "0"
      ]
     },
     "execution_count": 41,
     "metadata": {},
     "output_type": "execute_result"
    }
   ],
   "source": [
    "top_user.duplicated().sum()"
   ]
  },
  {
   "cell_type": "code",
   "execution_count": 42,
   "id": "cf302894",
   "metadata": {},
   "outputs": [],
   "source": [
    "top_user[\"State\"] = top_user[\"State\"].map(s)"
   ]
  },
  {
   "cell_type": "code",
   "execution_count": 43,
   "id": "72357f2f",
   "metadata": {},
   "outputs": [
    {
     "data": {
      "text/html": [
       "<div>\n",
       "<style scoped>\n",
       "    .dataframe tbody tr th:only-of-type {\n",
       "        vertical-align: middle;\n",
       "    }\n",
       "\n",
       "    .dataframe tbody tr th {\n",
       "        vertical-align: top;\n",
       "    }\n",
       "\n",
       "    .dataframe thead th {\n",
       "        text-align: right;\n",
       "    }\n",
       "</style>\n",
       "<table border=\"1\" class=\"dataframe\">\n",
       "  <thead>\n",
       "    <tr style=\"text-align: right;\">\n",
       "      <th></th>\n",
       "      <th>State</th>\n",
       "      <th>Year</th>\n",
       "      <th>Quarter</th>\n",
       "      <th>Pincode</th>\n",
       "      <th>RegisteredUsers</th>\n",
       "    </tr>\n",
       "  </thead>\n",
       "  <tbody>\n",
       "    <tr>\n",
       "      <th>0</th>\n",
       "      <td>Andaman &amp; Nicobar</td>\n",
       "      <td>2018</td>\n",
       "      <td>1</td>\n",
       "      <td>744103</td>\n",
       "      <td>1608</td>\n",
       "    </tr>\n",
       "    <tr>\n",
       "      <th>1</th>\n",
       "      <td>Andaman &amp; Nicobar</td>\n",
       "      <td>2018</td>\n",
       "      <td>1</td>\n",
       "      <td>744101</td>\n",
       "      <td>1108</td>\n",
       "    </tr>\n",
       "    <tr>\n",
       "      <th>2</th>\n",
       "      <td>Andaman &amp; Nicobar</td>\n",
       "      <td>2018</td>\n",
       "      <td>1</td>\n",
       "      <td>744105</td>\n",
       "      <td>1075</td>\n",
       "    </tr>\n",
       "    <tr>\n",
       "      <th>3</th>\n",
       "      <td>Andaman &amp; Nicobar</td>\n",
       "      <td>2018</td>\n",
       "      <td>1</td>\n",
       "      <td>744102</td>\n",
       "      <td>1006</td>\n",
       "    </tr>\n",
       "    <tr>\n",
       "      <th>4</th>\n",
       "      <td>Andaman &amp; Nicobar</td>\n",
       "      <td>2018</td>\n",
       "      <td>1</td>\n",
       "      <td>744104</td>\n",
       "      <td>272</td>\n",
       "    </tr>\n",
       "    <tr>\n",
       "      <th>...</th>\n",
       "      <td>...</td>\n",
       "      <td>...</td>\n",
       "      <td>...</td>\n",
       "      <td>...</td>\n",
       "      <td>...</td>\n",
       "    </tr>\n",
       "    <tr>\n",
       "      <th>7849</th>\n",
       "      <td>West Bengal</td>\n",
       "      <td>2023</td>\n",
       "      <td>2</td>\n",
       "      <td>700015</td>\n",
       "      <td>117690</td>\n",
       "    </tr>\n",
       "    <tr>\n",
       "      <th>7850</th>\n",
       "      <td>West Bengal</td>\n",
       "      <td>2023</td>\n",
       "      <td>2</td>\n",
       "      <td>742304</td>\n",
       "      <td>114746</td>\n",
       "    </tr>\n",
       "    <tr>\n",
       "      <th>7851</th>\n",
       "      <td>West Bengal</td>\n",
       "      <td>2023</td>\n",
       "      <td>2</td>\n",
       "      <td>721101</td>\n",
       "      <td>114293</td>\n",
       "    </tr>\n",
       "    <tr>\n",
       "      <th>7852</th>\n",
       "      <td>West Bengal</td>\n",
       "      <td>2023</td>\n",
       "      <td>2</td>\n",
       "      <td>700150</td>\n",
       "      <td>110694</td>\n",
       "    </tr>\n",
       "    <tr>\n",
       "      <th>7853</th>\n",
       "      <td>West Bengal</td>\n",
       "      <td>2023</td>\n",
       "      <td>2</td>\n",
       "      <td>700091</td>\n",
       "      <td>110637</td>\n",
       "    </tr>\n",
       "  </tbody>\n",
       "</table>\n",
       "<p>7854 rows × 5 columns</p>\n",
       "</div>"
      ],
      "text/plain": [
       "                  State  Year  Quarter Pincode  RegisteredUsers\n",
       "0     Andaman & Nicobar  2018        1  744103             1608\n",
       "1     Andaman & Nicobar  2018        1  744101             1108\n",
       "2     Andaman & Nicobar  2018        1  744105             1075\n",
       "3     Andaman & Nicobar  2018        1  744102             1006\n",
       "4     Andaman & Nicobar  2018        1  744104              272\n",
       "...                 ...   ...      ...     ...              ...\n",
       "7849        West Bengal  2023        2  700015           117690\n",
       "7850        West Bengal  2023        2  742304           114746\n",
       "7851        West Bengal  2023        2  721101           114293\n",
       "7852        West Bengal  2023        2  700150           110694\n",
       "7853        West Bengal  2023        2  700091           110637\n",
       "\n",
       "[7854 rows x 5 columns]"
      ]
     },
     "execution_count": 43,
     "metadata": {},
     "output_type": "execute_result"
    }
   ],
   "source": [
    "top_user"
   ]
  },
  {
   "cell_type": "code",
   "execution_count": null,
   "id": "f208ff90",
   "metadata": {},
   "outputs": [],
   "source": []
  },
  {
   "cell_type": "markdown",
   "id": "76b42f7f",
   "metadata": {},
   "source": [
    "# Creating connection with MySQL"
   ]
  },
  {
   "cell_type": "code",
   "execution_count": 3,
   "id": "ce1878ab",
   "metadata": {},
   "outputs": [],
   "source": [
    "mydb = pymysql.connect(host = '127.0.0.1',user='root',passwd='Hari@161297')\n",
    "mycursor = mydb.cursor()"
   ]
  },
  {
   "cell_type": "code",
   "execution_count": null,
   "id": "9401b603",
   "metadata": {},
   "outputs": [],
   "source": [
    "mycursor.execute(\"CREATE DATABASE phonepe\")"
   ]
  },
  {
   "cell_type": "code",
   "execution_count": 55,
   "id": "e1afecee",
   "metadata": {},
   "outputs": [],
   "source": [
    "mydb = pymysql.connect(host = '127.0.0.1',user='root',passwd='Hari@161297',database = \"phonepe\")\n",
    "mycursor = mydb.cursor()"
   ]
  },
  {
   "cell_type": "markdown",
   "id": "7886d342",
   "metadata": {},
   "source": [
    "# Creating agg_trans table"
   ]
  },
  {
   "cell_type": "code",
   "execution_count": null,
   "id": "a6bdfdfb",
   "metadata": {},
   "outputs": [],
   "source": [
    "mycursor.execute(\"create table agg_trans (State varchar(100), Year int, Quarter int, Transaction_type varchar(100), Transaction_count int, Transaction_amount double)\")\n"
   ]
  },
  {
   "cell_type": "code",
   "execution_count": 56,
   "id": "04d66028",
   "metadata": {},
   "outputs": [],
   "source": [
    "for i,row in agg_trans.iterrows(): \n",
    "    sql = \"INSERT INTO agg_trans VALUES (%s,%s,%s,%s,%s,%s)\"\n",
    "    mycursor.execute(sql, tuple(row))\n",
    "    mydb.commit()"
   ]
  },
  {
   "cell_type": "markdown",
   "id": "1d9652dc",
   "metadata": {},
   "source": [
    "# Creating agg_user table"
   ]
  },
  {
   "cell_type": "code",
   "execution_count": null,
   "id": "bd5dd5a8",
   "metadata": {},
   "outputs": [],
   "source": [
    "mycursor.execute(\"create table agg_user (State varchar(100), Year int, Quarter int, Brands varchar(100), Count int, Percentage double)\")\n",
    "\n"
   ]
  },
  {
   "cell_type": "code",
   "execution_count": 57,
   "id": "f737a374",
   "metadata": {},
   "outputs": [],
   "source": [
    "for i,row in agg_user.iterrows():\n",
    "    sql = \"INSERT INTO agg_user VALUES (%s,%s,%s,%s,%s,%s)\"\n",
    "    mycursor.execute(sql, tuple(row))\n",
    "    mydb.commit()"
   ]
  },
  {
   "cell_type": "markdown",
   "id": "d60f4948",
   "metadata": {},
   "source": [
    "# Creating map_trans table"
   ]
  },
  {
   "cell_type": "code",
   "execution_count": null,
   "id": "fd9e169c",
   "metadata": {},
   "outputs": [],
   "source": [
    "mycursor.execute(\"create table map_trans (State varchar(100), Year int, Quarter int, District varchar(100), Count int, Amount double)\")\n",
    "\n"
   ]
  },
  {
   "cell_type": "code",
   "execution_count": 58,
   "id": "14b85766",
   "metadata": {},
   "outputs": [],
   "source": [
    "for i,row in map_trans.iterrows():\n",
    "    sql = \"INSERT INTO map_trans VALUES (%s,%s,%s,%s,%s,%s)\"\n",
    "    mycursor.execute(sql, tuple(row))\n",
    "    mydb.commit()"
   ]
  },
  {
   "cell_type": "markdown",
   "id": "d185db80",
   "metadata": {},
   "source": [
    "# Creating map_user table"
   ]
  },
  {
   "cell_type": "code",
   "execution_count": null,
   "id": "54acfb0d",
   "metadata": {},
   "outputs": [],
   "source": [
    "mycursor.execute(\"create table map_user (State varchar(100), Year int, Quarter int, District varchar(100), Registered_user int, App_opens int)\")\n"
   ]
  },
  {
   "cell_type": "code",
   "execution_count": 59,
   "id": "37a55063",
   "metadata": {},
   "outputs": [],
   "source": [
    "\n",
    "for i,row in map_user.iterrows():\n",
    "    sql = \"INSERT INTO map_user VALUES (%s,%s,%s,%s,%s,%s)\"\n",
    "    mycursor.execute(sql, tuple(row))\n",
    "    mydb.commit()"
   ]
  },
  {
   "cell_type": "markdown",
   "id": "4273de70",
   "metadata": {},
   "source": [
    "# Creating top_trans table"
   ]
  },
  {
   "cell_type": "code",
   "execution_count": null,
   "id": "ea0a924b",
   "metadata": {},
   "outputs": [],
   "source": [
    "mycursor.execute(\"create table top_trans (State varchar(100), Year int, Quarter int, Pincode int, Transaction_count int, Transaction_amount double)\")\n"
   ]
  },
  {
   "cell_type": "code",
   "execution_count": 60,
   "id": "4fa8f152",
   "metadata": {},
   "outputs": [],
   "source": [
    "\n",
    "for i,row in top_trans.iterrows():\n",
    "    sql = \"INSERT INTO top_trans VALUES (%s,%s,%s,%s,%s,%s)\"\n",
    "    mycursor.execute(sql, tuple(row))\n",
    "    mydb.commit()"
   ]
  },
  {
   "cell_type": "markdown",
   "id": "30a5ad4e",
   "metadata": {},
   "source": [
    "# Creating top_user table"
   ]
  },
  {
   "cell_type": "code",
   "execution_count": null,
   "id": "f8a91aa1",
   "metadata": {},
   "outputs": [],
   "source": [
    "mycursor.execute(\"create table top_user (State varchar(100), Year int, Quarter int, Pincode int, Registered_users int)\")\n"
   ]
  },
  {
   "cell_type": "code",
   "execution_count": 61,
   "id": "9e9fe74b",
   "metadata": {},
   "outputs": [],
   "source": [
    "\n",
    "for i,row in top_user.iterrows():\n",
    "    sql = \"INSERT INTO top_user VALUES (%s,%s,%s,%s,%s)\"\n",
    "    mycursor.execute(sql, tuple(row))\n",
    "    mydb.commit()"
   ]
  },
  {
   "cell_type": "code",
   "execution_count": null,
   "id": "d25205a8",
   "metadata": {},
   "outputs": [],
   "source": []
  },
  {
   "cell_type": "code",
   "execution_count": null,
   "id": "e99c0145",
   "metadata": {},
   "outputs": [],
   "source": []
  }
 ],
 "metadata": {
  "kernelspec": {
   "display_name": "Python 3 (ipykernel)",
   "language": "python",
   "name": "python3"
  },
  "language_info": {
   "codemirror_mode": {
    "name": "ipython",
    "version": 3
   },
   "file_extension": ".py",
   "mimetype": "text/x-python",
   "name": "python",
   "nbconvert_exporter": "python",
   "pygments_lexer": "ipython3",
   "version": "3.11.3"
  }
 },
 "nbformat": 4,
 "nbformat_minor": 5
}
