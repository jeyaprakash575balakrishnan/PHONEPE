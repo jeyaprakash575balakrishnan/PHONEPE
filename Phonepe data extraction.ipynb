import pandas as pd
import json
import os
import pymysql
from pprint import pprint
Aggregated Trans
#This is to direct the path to get the data as states

path=r"C:\Users\91978\Downloads\pulse-master\pulse-master\data\aggregated\transaction\country\india\state"
Agg_state_list=os.listdir(path)
#This is to extract the data's to create a dataframe

clm={'State':[], 'Year':[],'Quater':[],'Transacion_type':[], 'Transacion_count':[], 'Transacion_amount':[]}
for i in Agg_state_list:
    p_i=path+"/"+i
    Agg_yr=os.listdir(p_i)
    for j in Agg_yr:
        p_j=p_i+"/"+j
        Agg_yr_list=os.listdir(p_j)
        for k in Agg_yr_list:
            p_k=p_j+"/"+k
            Data=open(p_k,'r')
            D=json.load(Data)
            for z in D['data']['transactionData']:
              Name=z['name']
              count=z['paymentInstruments'][0]['count']
              amount=z['paymentInstruments'][0]['amount']
              clm['Transacion_type'].append(Name)
              clm['Transacion_count'].append(count)
              clm['Transacion_amount'].append(amount)
              clm['State'].append(i)
              clm['Year'].append(j)
              clm['Quater'].append(int(k.strip('.json')))
#Succesfully created a dataframe
agg_trans=pd.DataFrame(clm)
agg_trans.isnull().sum()
State                0
Year                 0
Quater               0
Transacion_type      0
Transacion_count     0
Transacion_amount    0
dtype: int64
agg_trans.duplicated().sum()
0
agg_trans["State"].unique()
array(['andaman-&-nicobar-islands', 'andhra-pradesh', 'arunachal-pradesh',
       'assam', 'bihar', 'chandigarh', 'chhattisgarh',
       'dadra-&-nagar-haveli-&-daman-&-diu', 'delhi', 'goa', 'gujarat',
       'haryana', 'himachal-pradesh', 'jammu-&-kashmir', 'jharkhand',
       'karnataka', 'kerala', 'ladakh', 'lakshadweep', 'madhya-pradesh',
       'maharashtra', 'manipur', 'meghalaya', 'mizoram', 'nagaland',
       'odisha', 'puducherry', 'punjab', 'rajasthan', 'sikkim',
       'tamil-nadu', 'telangana', 'tripura', 'uttar-pradesh',
       'uttarakhand', 'west-bengal'], dtype=object)
s={'andaman-&-nicobar-islands':"Andaman & Nicobar",
   'andhra-pradesh':"Andhra Pradesh",
   'arunachal-pradesh':"Arunachal Pradesh",
   'assam':"Assam",
   'bihar':"Bihar",
   'chandigarh':"Chandigarh",
   'chhattisgarh':"Chhattisgarh",
    'dadra-&-nagar-haveli-&-daman-&-diu':"Dadra and Nagar Haveli and Daman and Diu",
   'delhi':"Delhi",
   'goa':"Goa",
   'gujarat':"Gujarat",
    'haryana':"Haryana",
   'himachal-pradesh':"Himachal Pradesh",
   'jammu-&-kashmir':"Jammu & Kashmir",
   'jharkhand':"Jharkhand",
    'karnataka':"Karnataka",
   'kerala':"Kerala",
   'ladakh':"Ladakh",
   'lakshadweep':"Lakshadweep",
   'madhya-pradesh':"Madhya Pradesh",
    'maharashtra':"Maharashtra",
   'manipur':"Manipur",
   'meghalaya':"Meghalaya",
   'mizoram':"Mizoram",
   'nagaland':"Nagaland",
    'odisha':"Odisha",
   'puducherry':"Puducherry",
   'punjab':"Punjab",
   'rajasthan':"Rajasthan",
   'sikkim':"Sikkim",
    'tamil-nadu':"Tamil Nadu",
   'telangana':"Telangana",
   'tripura':"Tripura",
   'uttar-pradesh':"Uttar Pradesh",
    'uttarakhand':"Uttarakhand",
   'west-bengal':"West Bengal"  
}
agg_trans["State"] = agg_trans["State"].map(s)
agg_trans
State	Year	Quater	Transacion_type	Transacion_count	Transacion_amount
0	Andaman & Nicobar	2018	1	Recharge & bill payments	4200	1.845307e+06
1	Andaman & Nicobar	2018	1	Peer-to-peer payments	1871	1.213866e+07
2	Andaman & Nicobar	2018	1	Merchant payments	298	4.525072e+05
3	Andaman & Nicobar	2018	1	Financial Services	33	1.060142e+04
4	Andaman & Nicobar	2018	1	Others	256	1.846899e+05
...	...	...	...	...	...	...
3949	West Bengal	2023	2	Merchant payments	245111000	1.767046e+11
3950	West Bengal	2023	2	Peer-to-peer payments	240347041	7.970548e+11
3951	West Bengal	2023	2	Recharge & bill payments	58950434	3.478924e+10
3952	West Bengal	2023	2	Financial Services	327537	3.174670e+08
3953	West Bengal	2023	2	Others	581674	4.489893e+08
3954 rows × 6 columns

 
Aggregated user
path2 = r"C:\Users\91978\Downloads\pulse-master\pulse-master\data\aggregated\user\country\india\state"

agg_user_list = os.listdir(path2)

columns2 = {'State': [], 'Year': [], 'Quarter': [], 'Brands': [], 'Count': [],'Percentage': []}
for state in agg_user_list:
    cur_state = path2 + "/" + state   
    agg_year_list = os.listdir(cur_state)
    
    for year in agg_year_list:
        cur_year = cur_state + "/" + year 
        agg_file_list = os.listdir(cur_year)

        for file in agg_file_list:
            cur_file = cur_year + "/" + file
            data = open(cur_file, 'r')
            B = json.load(data)
            try:
                for i in B["data"]["usersByDevice"]:
                    brand_name = i["brand"]
                    counts = i["count"]
                    percents = i["percentage"]
                    columns2["Brands"].append(brand_name)
                    columns2["Count"].append(counts)
                    columns2["Percentage"].append(percents)
                    columns2["State"].append(state)
                    columns2["Year"].append(year)
                    columns2["Quarter"].append(int(file.strip('.json')))
            except:
                pass
agg_user = pd.DataFrame(columns2)
agg_user
State	Year	Quarter	Brands	Count	Percentage
0	andaman-&-nicobar-islands	2018	1	Xiaomi	1665	0.247033
1	andaman-&-nicobar-islands	2018	1	Samsung	1445	0.214392
2	andaman-&-nicobar-islands	2018	1	Vivo	982	0.145697
3	andaman-&-nicobar-islands	2018	1	Oppo	501	0.074332
4	andaman-&-nicobar-islands	2018	1	OnePlus	332	0.049258
...	...	...	...	...	...	...
6727	west-bengal	2022	1	Lenovo	330017	0.015056
6728	west-bengal	2022	1	Infinix	284678	0.012987
6729	west-bengal	2022	1	Asus	280347	0.012790
6730	west-bengal	2022	1	Apple	277752	0.012671
6731	west-bengal	2022	1	Others	2196334	0.100199
6732 rows × 6 columns

agg_user.isnull().sum()
State         0
Year          0
Quarter       0
Brands        0
Count         0
Percentage    0
dtype: int64
agg_user.duplicated().sum()
0
agg_user["State"] = agg_user["State"].map(s)
agg_user
State	Year	Quarter	Brands	Count	Percentage
0	Andaman & Nicobar	2018	1	Xiaomi	1665	0.247033
1	Andaman & Nicobar	2018	1	Samsung	1445	0.214392
2	Andaman & Nicobar	2018	1	Vivo	982	0.145697
3	Andaman & Nicobar	2018	1	Oppo	501	0.074332
4	Andaman & Nicobar	2018	1	OnePlus	332	0.049258
...	...	...	...	...	...	...
6727	West Bengal	2022	1	Lenovo	330017	0.015056
6728	West Bengal	2022	1	Infinix	284678	0.012987
6729	West Bengal	2022	1	Asus	280347	0.012790
6730	West Bengal	2022	1	Apple	277752	0.012671
6731	West Bengal	2022	1	Others	2196334	0.100199
6732 rows × 6 columns

 
map transaction
path3 = r"C:\Users\91978\Downloads\pulse-master\pulse-master\data\map\transaction\hover\country\india\state"

map_trans_list = os.listdir(path3)
columns3 = {'State': [], 'Year': [], 'Quarter': [], 'District': [], 'Count': [],
            'Amount': []}

for state in map_trans_list:
    cur_state = path3 + "/" + state 
    map_year_list = os.listdir(cur_state)
    
    for year in map_year_list:
        cur_year = cur_state + "/" + year 
        map_file_list = os.listdir(cur_year)
        
        for file in map_file_list:
            cur_file = cur_year + "/" + file
            data = open(cur_file, 'r')
            C = json.load(data)
            
            for i in C["data"]["hoverDataList"]:
                district = i["name"]
                count = i["metric"][0]["count"]
                amount = i["metric"][0]["amount"]
                columns3["District"].append(district)
                columns3["Count"].append(count)
                columns3["Amount"].append(amount)
                columns3['State'].append(state)
                columns3['Year'].append(year)
                columns3['Quarter'].append(int(file.strip('.json')))
                
map_trans = pd.DataFrame(columns3)
map_trans.isnull().sum()
State       0
Year        0
Quarter     0
District    0
Count       0
Amount      0
dtype: int64
map_trans.duplicated().sum()
0
map_trans["State"] = map_trans["State"].map(s)
map_trans
State	Year	Quarter	District	Count	Amount
0	Andaman & Nicobar	2018	1	north and middle andaman district	442	9.316631e+05
1	Andaman & Nicobar	2018	1	south andaman district	5688	1.256025e+07
2	Andaman & Nicobar	2018	1	nicobars district	528	1.139849e+06
3	Andaman & Nicobar	2018	2	north and middle andaman district	825	1.317863e+06
4	Andaman & Nicobar	2018	2	south andaman district	9395	2.394824e+07
...	...	...	...	...	...	...
16095	West Bengal	2023	2	nadia district	26194658	5.410386e+10
16096	West Bengal	2023	2	birbhum district	14912523	2.941312e+10
16097	West Bengal	2023	2	purba medinipur district	30724502	6.595899e+10
16098	West Bengal	2023	2	maldah district	24677357	5.218621e+10
16099	West Bengal	2023	2	darjiling district	13049366	2.372866e+10
16100 rows × 6 columns

 
 
map user
path4 = r"C:\Users\91978\Downloads\pulse-master\pulse-master\data\map\user\hover\country\india\state"

map_user_list = os.listdir(path4)

columns4 = {"State": [], "Year": [], "Quarter": [], "District": [],
            "RegisteredUser": [], "AppOpens": []}

for state in map_user_list:
    cur_state = path4 + "/" + state 
    map_year_list = os.listdir(cur_state)
    
    for year in map_year_list:
        cur_year = cur_state + "/" + year  
        map_file_list = os.listdir(cur_year)
        
        for file in map_file_list:
            cur_file = cur_year + "/" + file
            data = open(cur_file, 'r')
            D = json.load(data)
            
            for i in D["data"]["hoverData"].items():
                district = i[0]
                registereduser = i[1]["registeredUsers"]
                appOpens = i[1]['appOpens']
                columns4["District"].append(district)
                columns4["RegisteredUser"].append(registereduser)
                columns4["AppOpens"].append(appOpens)
                columns4['State'].append(state)
                columns4['Year'].append(year)
                columns4['Quarter'].append(int(file.strip('.json')))
                
map_user = pd.DataFrame(columns4)
map_user.isnull().sum()
State             0
Year              0
Quarter           0
District          0
RegisteredUser    0
AppOpens          0
dtype: int64
map_user.duplicated().sum()
0
map_user["State"] = map_user["State"].map(s)
map_user
State	Year	Quarter	District	RegisteredUser	AppOpens
0	Andaman & Nicobar	2018	1	north and middle andaman district	632	0
1	Andaman & Nicobar	2018	1	south andaman district	5846	0
2	Andaman & Nicobar	2018	1	nicobars district	262	0
3	Andaman & Nicobar	2018	2	north and middle andaman district	911	0
4	Andaman & Nicobar	2018	2	south andaman district	8143	0
...	...	...	...	...	...	...
16099	West Bengal	2023	2	nadia district	1482400	9509833
16100	West Bengal	2023	2	birbhum district	934943	12789154
16101	West Bengal	2023	2	purba medinipur district	1468608	12096564
16102	West Bengal	2023	2	maldah district	1046132	17662446
16103	West Bengal	2023	2	darjiling district	613398	15141713
16104 rows × 6 columns

 
top transactions
path5 = r"C:\Users\91978\Downloads\pulse-master\pulse-master\data\top\transaction\country\india\state"

top_trans_list = os.listdir(path5)
columns5 = {'State': [], 'Year': [], 'Quarter': [], 'Pincode': [], 'Transaction_count': [],
            'Transaction_amount': []}

for state in top_trans_list:
    cur_state = path5 + "/" + state  
    top_year_list = os.listdir(cur_state)
    
    for year in top_year_list:
        cur_year = cur_state + "/" + year 
        top_file_list = os.listdir(cur_year)
        
        for file in top_file_list:
            cur_file = cur_year + "/" + file
            data = open(cur_file, 'r')
            E = json.load(data)
            
            for i in E['data']['pincodes']:
                name = i['entityName']
                count = i['metric']['count']
                amount = i['metric']['amount']
                columns5['Pincode'].append(name)
                columns5['Transaction_count'].append(count)
                columns5['Transaction_amount'].append(amount)
                columns5['State'].append(state)
                columns5['Year'].append(year)
                columns5['Quarter'].append(int(file.strip('.json')))
top_trans = pd.DataFrame(columns5)
top_trans.isnull().sum()
State                 0
Year                  0
Quarter               0
Pincode               2
Transaction_count     0
Transaction_amount    0
dtype: int64
top_trans[top_trans.isnull().any(axis=1)]
State	Year	Quarter	Pincode	Transaction_count	Transaction_amount
3794	ladakh	2019	4	None	2014	1.009866e+07
3836	ladakh	2020	4	None	13717	3.671160e+07
top_trans.dropna(inplace=True)
top_trans.isnull().sum()
State                 0
Year                  0
Quarter               0
Pincode               0
Transaction_count     0
Transaction_amount    0
dtype: int64
top_trans.shape
(7851, 6)
top_trans.duplicated().sum()
0
top_trans["State"] = top_trans["State"].map(s)
top_trans
State	Year	Quarter	Pincode	Transaction_count	Transaction_amount
0	Andaman & Nicobar	2018	1	744101	1622	2.769298e+06
1	Andaman & Nicobar	2018	1	744103	1223	2.238042e+06
2	Andaman & Nicobar	2018	1	744102	969	3.519060e+06
3	Andaman & Nicobar	2018	1	744105	685	1.298561e+06
4	Andaman & Nicobar	2018	1	744104	340	1.039715e+06
...	...	...	...	...	...	...
7848	West Bengal	2023	2	700001	2918444	6.259877e+09
7849	West Bengal	2023	2	721301	2910870	4.458107e+09
7850	West Bengal	2023	2	700039	2886562	4.662887e+09
7851	West Bengal	2023	2	700015	2774383	4.372975e+09
7852	West Bengal	2023	2	700014	2757479	5.108638e+09
7851 rows × 6 columns

 
top users
path6 =r"C:\Users\91978\Downloads\pulse-master\pulse-master\data\top\user\country\india\state"
top_user_list = os.listdir(path6)
columns6 = {'State': [], 'Year': [], 'Quarter': [], 'Pincode': [],
            'RegisteredUsers': []}

for state in top_user_list:
    cur_state = path6 + "/" + state  
    top_year_list = os.listdir(cur_state)
    
    for year in top_year_list:
        cur_year = cur_state + "/" + year 
        top_file_list = os.listdir(cur_year)
        
        for file in top_file_list:
            cur_file = cur_year + "/" + file
            data = open(cur_file, 'r')
            F = json.load(data)
            
            for i in F['data']['pincodes']:
                name = i['name']
                registeredUsers = i['registeredUsers']
                columns6['Pincode'].append(name)
                columns6['RegisteredUsers'].append(registeredUsers)
                columns6['State'].append(state)
                columns6['Year'].append(year)
                columns6['Quarter'].append(int(file.strip('.json')))
top_user = pd.DataFrame(columns6)      
top_user.isnull().sum()
State              0
Year               0
Quarter            0
Pincode            0
RegisteredUsers    0
dtype: int64
top_user.duplicated().sum()
0
top_user["State"] = top_user["State"].map(s)
top_user
State	Year	Quarter	Pincode	RegisteredUsers
0	Andaman & Nicobar	2018	1	744103	1608
1	Andaman & Nicobar	2018	1	744101	1108
2	Andaman & Nicobar	2018	1	744105	1075
3	Andaman & Nicobar	2018	1	744102	1006
4	Andaman & Nicobar	2018	1	744104	272
...	...	...	...	...	...
7849	West Bengal	2023	2	700015	117690
7850	West Bengal	2023	2	742304	114746
7851	West Bengal	2023	2	721101	114293
7852	West Bengal	2023	2	700150	110694
7853	West Bengal	2023	2	700091	110637
7854 rows × 5 columns

 
Creating connection with MySQL
mydb = pymysql.connect(host = '127.0.0.1',user='root',passwd='Hari@161297')
mycursor = mydb.cursor()
mycursor.execute("CREATE DATABASE phonepe")
mydb = pymysql.connect(host = '127.0.0.1',user='root',passwd='Hari@161297',database = "phonepe")
mycursor = mydb.cursor()
Creating agg_trans table
mycursor.execute("create table agg_trans (State varchar(100), Year int, Quarter int, Transaction_type varchar(100), Transaction_count int, Transaction_amount double)")
for i,row in agg_trans.iterrows(): 
    sql = "INSERT INTO agg_trans VALUES (%s,%s,%s,%s,%s,%s)"
    mycursor.execute(sql, tuple(row))
    mydb.commit()
Creating agg_user table
mycursor.execute("create table agg_user (State varchar(100), Year int, Quarter int, Brands varchar(100), Count int, Percentage double)")
for i,row in agg_user.iterrows():
    sql = "INSERT INTO agg_user VALUES (%s,%s,%s,%s,%s,%s)"
    mycursor.execute(sql, tuple(row))
    mydb.commit()
Creating map_trans table
mycursor.execute("create table map_trans (State varchar(100), Year int, Quarter int, District varchar(100), Count int, Amount double)")
for i,row in map_trans.iterrows():
    sql = "INSERT INTO map_trans VALUES (%s,%s,%s,%s,%s,%s)"
    mycursor.execute(sql, tuple(row))
    mydb.commit()
Creating map_user table
mycursor.execute("create table map_user (State varchar(100), Year int, Quarter int, District varchar(100), Registered_user int, App_opens int)")
for i,row in map_user.iterrows():
    sql = "INSERT INTO map_user VALUES (%s,%s,%s,%s,%s,%s)"
    mycursor.execute(sql, tuple(row))
    mydb.commit()
Creating top_trans table
mycursor.execute("create table top_trans (State varchar(100), Year int, Quarter int, Pincode int, Transaction_count int, Transaction_amount double)")
for i,row in top_trans.iterrows():
    sql = "INSERT INTO top_trans VALUES (%s,%s,%s,%s,%s,%s)"
    mycursor.execute(sql, tuple(row))
    mydb.commit()
Creating top_user table
mycursor.execute("create table top_user (State varchar(100), Year int, Quarter int, Pincode int, Registered_users int)")
for i,row in top_user.iterrows():
    sql = "INSERT INTO top_user VALUES (%s,%s,%s,%s,%s)"
    mycursor.execute(sql, tuple(row))
    mydb.commit()
 
