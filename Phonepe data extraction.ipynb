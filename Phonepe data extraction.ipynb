import pandas as pd
import json
import os
import pymysql
from pprint import pprint

#This is to direct the path to get the data as states

path=r"C:\Users\91978\Downloads\pulse-master\pulse-master\data\aggregated\transaction\country\india\state"
Agg_state_list=os.listdir(path)

#This is to extract the data's to create a dataframe

clm={'State':[], 'Year':[],'Quater':[],'Transacion_type':[], 'Transacion_count':[], 'Transacion_amount':[]}
for i in Agg_state_list:
    p_i=path+"/"+i
    Agg_yr=os.listdir(p_i)
    for j in Agg_yr:
        p_j=p_i+"/"+j
        Agg_yr_list=os.listdir(p_j)
        for k in Agg_yr_list:
            p_k=p_j+"/"+k
            Data=open(p_k,'r')
            D=json.load(Data)
            for z in D['data']['transactionData']:
              Name=z['name']
              count=z['paymentInstruments'][0]['count']
              amount=z['paymentInstruments'][0]['amount']
              clm['Transacion_type'].append(Name)
              clm['Transacion_count'].append(count)
              clm['Transacion_amount'].append(amount)
              clm['State'].append(i)
              clm['Year'].append(j)
              clm['Quater'].append(int(k.strip('.json')))
              
#Succesfully created a dataframe
agg_trans=pd.DataFrame(clm)

agg_trans.isnull().sum()

agg_trans.duplicated().sum()

agg_trans["State"].unique()

s={'andaman-&-nicobar-islands':"Andaman & Nicobar",
   'andhra-pradesh':"Andhra Pradesh",
   'arunachal-pradesh':"Arunachal Pradesh",
   'assam':"Assam",
   'bihar':"Bihar",
   'chandigarh':"Chandigarh",
   'chhattisgarh':"Chhattisgarh",
    'dadra-&-nagar-haveli-&-daman-&-diu':"Dadra and Nagar Haveli and Daman and Diu",
   'delhi':"Delhi",
   'goa':"Goa",
   'gujarat':"Gujarat",
    'haryana':"Haryana",
   'himachal-pradesh':"Himachal Pradesh",
   'jammu-&-kashmir':"Jammu & Kashmir",
   'jharkhand':"Jharkhand",
    'karnataka':"Karnataka",
   'kerala':"Kerala",
   'ladakh':"Ladakh",
   'lakshadweep':"Lakshadweep",
   'madhya-pradesh':"Madhya Pradesh",
    'maharashtra':"Maharashtra",
   'manipur':"Manipur",
   'meghalaya':"Meghalaya",
   'mizoram':"Mizoram",
   'nagaland':"Nagaland",
    'odisha':"Odisha",
   'puducherry':"Puducherry",
   'punjab':"Punjab",
   'rajasthan':"Rajasthan",
   'sikkim':"Sikkim",
    'tamil-nadu':"Tamil Nadu",
   'telangana':"Telangana",
   'tripura':"Tripura",
   'uttar-pradesh':"Uttar Pradesh",
    'uttarakhand':"Uttarakhand",
   'west-bengal':"West Bengal"  
}


agg_trans["State"] = agg_trans["State"].map(s)

agg_trans

                                     Aggregated user

path2 =r"C:\Users\91978\Downloads\pulse-master\pulse-master\data\aggregated\user\country\india\state"

agg_user_list = os.listdir(path2)

columns2 = {'State': [], 'Year': [], 'Quarter': [], 'Brands': [], 'Count': [],'Percentage': []}
for state in agg_user_list:
    cur_state = path2 + "/" + state   
    agg_year_list = os.listdir(cur_state)
    
    for year in agg_year_list:
        cur_year = cur_state + "/" + year 
        agg_file_list = os.listdir(cur_year)

        for file in agg_file_list:
            cur_file = cur_year + "/" + file
            data = open(cur_file, 'r')
            B = json.load(data)
            try:
                for i in B["data"]["usersByDevice"]:
                    brand_name = i["brand"]
                    counts = i["count"]
                    percents = i["percentage"]
                    columns2["Brands"].append(brand_name)
                    columns2["Count"].append(counts)
                    columns2["Percentage"].append(percents)
                    columns2["State"].append(state)
                    columns2["Year"].append(year)
                    columns2["Quarter"].append(int(file.strip('.json')))
            except:
                pass
agg_user = pd.DataFrame(columns2)


agg_user

agg_user.isnull().sum()

agg_user.duplicated().sum()

agg_user["State"] = agg_user["State"].map(s)

agg_user

                             map transaction

path3 = r"C:\Users\91978\Downloads\pulse-master\pulse-master\data\map\transaction\hover\country\india\state"

map_trans_list = os.listdir(path3)


columns3 = {'State': [], 'Year': [], 'Quarter': [], 'District': [], 'Count': [],
            'Amount': []}

for state in map_trans_list:
    cur_state = path3 + "/" + state 
    map_year_list = os.listdir(cur_state)
    
    for year in map_year_list:
        cur_year = cur_state + "/" + year 
        map_file_list = os.listdir(cur_year)
        
        for file in map_file_list:
            cur_file = cur_year + "/" + file
            data = open(cur_file, 'r')
            C = json.load(data)
            
            for i in C["data"]["hoverDataList"]:
                district = i["name"]
                count = i["metric"][0]["count"]
                amount = i["metric"][0]["amount"]
                columns3["District"].append(district)
                columns3["Count"].append(count)
                columns3["Amount"].append(amount)
                columns3['State'].append(state)
                columns3['Year'].append(year)
                columns3['Quarter'].append(int(file.strip('.json')))
                
map_trans = pd.DataFrame(columns3)


map_trans.isnull().sum()

map_trans.duplicated().sum()

map_trans["State"] = map_trans["State"].map(s)

map_trans


                                map user


path4 = r"C:\Users\91978\Downloads\pulse-master\pulse-master\data\map\user\hover\country\india\state"

map_user_list = os.listdir(path4)

columns4 = {"State": [], "Year": [], "Quarter": [], "District": [],
            "RegisteredUser": [], "AppOpens": []}

for state in map_user_list:
    cur_state = path4 + "/" + state 
    map_year_list = os.listdir(cur_state)
    
    for year in map_year_list:
        cur_year = cur_state + "/" + year  
        map_file_list = os.listdir(cur_year)
        
        for file in map_file_list:
            cur_file = cur_year + "/" + file
            data = open(cur_file, 'r')
            D = json.load(data)
            
            for i in D["data"]["hoverData"].items():
                district = i[0]
                registereduser = i[1]["registeredUsers"]
                appOpens = i[1]['appOpens']
                columns4["District"].append(district)
                columns4["RegisteredUser"].append(registereduser)
                columns4["AppOpens"].append(appOpens)
                columns4['State'].append(state)
                columns4['Year'].append(year)
                columns4['Quarter'].append(int(file.strip('.json')))
                
map_user = pd.DataFrame(columns4)

map_user.isnull().sum()

map_user.duplicated().sum()

map_user["State"] = map_user["State"].map(s)

map_user


                                          top transactions

path5 = r"C:\Users\91978\Downloads\pulse-master\pulse-master\data\top\transaction\country\india\state"

top_trans_list = os.listdir(path5)
columns5 = {'State': [], 'Year': [], 'Quarter': [], 'Pincode': [], 'Transaction_count': [],
            'Transaction_amount': []}

for state in top_trans_list:
    cur_state = path5 + "/" + state  
    top_year_list = os.listdir(cur_state)
    
    for year in top_year_list:
        cur_year = cur_state + "/" + year 
        top_file_list = os.listdir(cur_year)
        
        for file in top_file_list:
            cur_file = cur_year + "/" + file
            data = open(cur_file, 'r')
            E = json.load(data)
            
            for i in E['data']['pincodes']:
                name = i['entityName']
                count = i['metric']['count']
                amount = i['metric']['amount']
                columns5['Pincode'].append(name)
                columns5['Transaction_count'].append(count)
                columns5['Transaction_amount'].append(amount)
                columns5['State'].append(state)
                columns5['Year'].append(year)
                columns5['Quarter'].append(int(file.strip('.json')))
top_trans = pd.DataFrame(columns5)

top_trans.isnull().sum()

top_trans[top_trans.isnull().any(axis=1)]

top_trans.dropna(inplace=True)

top_trans.isnull().sum()

top_trans.shape

top_trans.duplicated().sum()

top_trans["State"] = top_trans["State"].map(s)

top_trans

                                   top users
path6 = r"C:\Users\91978\Downloads\pulse-master\pulse-master\data\top\user\country\india\state"
top_user_list = os.listdir(path6)
columns6 = {'State': [], 'Year': [], 'Quarter': [], 'Pincode': [],
            'RegisteredUsers': []}

for state in top_user_list:
    cur_state = path6 + "/" + state  
    top_year_list = os.listdir(cur_state)
    
    for year in top_year_list:
        cur_year = cur_state + "/" + year 
        top_file_list = os.listdir(cur_year)
        
        for file in top_file_list:
            cur_file = cur_year + "/" + file
            data = open(cur_file, 'r')
            F = json.load(data)
            
            for i in F['data']['pincodes']:
                name = i['name']
                registeredUsers = i['registeredUsers']
                columns6['Pincode'].append(name)
                columns6['RegisteredUsers'].append(registeredUsers)
                columns6['State'].append(state)
                columns6['Year'].append(year)
                columns6['Quarter'].append(int(file.strip('.json')))
top_user = pd.DataFrame(columns6)   

top_user.isnull().sum()

top_user.duplicated().sum()

top_user["State"] = top_user["State"].map(s)

top_use


                              Creating connection with MySQL


mydb = pymysql.connect(host = '127.0.0.1',user='root',passwd='Jeya@123')
mycursor = mydb.cursor()

mycursor.execute("CREATE DATABASE phonepe")

mydb = pymysql.connect(host = '127.0.0.1',user='root',passwd='Jeya@123',database = "phonepe")
mycursor = mydb.cursor()


                             Creating agg_trans table

mycursor.execute("create table agg_trans (State varchar(100), Year int, Quarter int, Transaction_type varchar(100), Transaction_count int, Transaction_amount double)")

for i,row in agg_trans.iterrows(): 
    sql = "INSERT INTO agg_trans VALUES (%s,%s,%s,%s,%s,%s)"
    mycursor.execute(sql, tuple(row))
    mydb.commit()

                         
                                Creating agg_user table


mycursor.execute("create table agg_user (State varchar(100), Year int, Quarter int, Brands varchar(100), Count int, Percentage double)")

for i,row in agg_user.iterrows():
    sql = "INSERT INTO agg_user VALUES (%s,%s,%s,%s,%s,%s)"
    mycursor.execute(sql, tuple(row))
    mydb.commit()

                                Creating map_trans table

mycursor.execute("create table map_trans (State varchar(100), Year int, Quarter int, District varchar(100), Count int, Amount double)")

for i,row in map_trans.iterrows():
    sql = "INSERT INTO map_trans VALUES (%s,%s,%s,%s,%s,%s)"
    mycursor.execute(sql, tuple(row))
    mydb.commit()

                                  Creating map_user table

mycursor.execute("create table map_user (State varchar(100), Year int, Quarter int, District varchar(100), Registered_user int, App_opens int)")


for i,row in map_user.iterrows():
    sql = "INSERT INTO map_user VALUES (%s,%s,%s,%s,%s,%s)"
    mycursor.execute(sql, tuple(row))
    mydb.commit()

                                            Creating top_trans table



mycursor.execute("create table top_trans (State varchar(100), Year int, Quarter int, Pincode int, Transaction_count int, Transaction_amount double)")

for i,row in top_trans.iterrows():
    sql = "INSERT INTO top_trans VALUES (%s,%s,%s,%s,%s,%s)"
    mycursor.execute(sql, tuple(row))
    mydb.commit()

                                            Creating top_user table

mycursor.execute("create table top_user (State varchar(100), Year int, Quarter int, Pincode int, Registered_users int)")

for i,row in top_user.iterrows():
    sql = "INSERT INTO top_user VALUES (%s,%s,%s,%s,%s)"
    mycursor.execute(sql, tuple(row))
    mydb.commit()





                              










